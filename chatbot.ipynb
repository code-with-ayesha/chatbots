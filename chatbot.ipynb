{
  "nbformat": 4,
  "nbformat_minor": 0,
  "metadata": {
    "colab": {
      "provenance": [],
      "include_colab_link": true
    },
    "kernelspec": {
      "name": "python3",
      "display_name": "Python 3"
    },
    "language_info": {
      "name": "python"
    }
  },
  "cells": [
    {
      "cell_type": "markdown",
      "metadata": {
        "id": "view-in-github",
        "colab_type": "text"
      },
      "source": [
        "<a href=\"https://colab.research.google.com/github/code-with-ayesha/chatbots/blob/main/chatbot.ipynb\" target=\"_parent\"><img src=\"https://colab.research.google.com/assets/colab-badge.svg\" alt=\"Open In Colab\"/></a>"
      ]
    },
    {
      "cell_type": "code",
      "execution_count": 17,
      "metadata": {
        "collapsed": true,
        "id": "59wdq6v4rcqv"
      },
      "outputs": [],
      "source": [
        "!pip -q install gradio langchain langchain_groq langchain_core langchain_community tavily-python"
      ]
    },
    {
      "cell_type": "code",
      "source": [
        "from google.colab import userdata\n",
        "TAVELI_API_KEY = userdata.get('TAVELI_API_KEY')"
      ],
      "metadata": {
        "id": "HDmTJDBiShbz"
      },
      "execution_count": 10,
      "outputs": []
    },
    {
      "cell_type": "code",
      "source": [
        "import gradio as gr\n",
        "from langchain_groq import ChatGroq\n",
        "from google.colab import userdata\n",
        "\n",
        "\n",
        "# Fetch your API key from userdata\n",
        "groq_api_key = userdata.get('GROQ_API_KEY')\n",
        "\n",
        "# Initialize the Groq model (e.g., \"llama-3.1-70b-versatile\")\n",
        "llm = ChatGroq(model_name=\"llama-3.1-70b-versatile\", temperature=1, api_key=groq_api_key)\n",
        "\n",
        "# Function to check if the query is student-related\n",
        "def is_student_query(query):\n",
        "    # List of keywords related to student topics (you can extend this)\n",
        "    student_keywords = [\"homework\", \"study\", \"math\", \"science\", \"history\", \"assignment\", \"school\", \"exam\",\"spelling\",\"wiki\"]\n",
        "    return any(keyword.lower() in query.lower() for keyword in student_keywords)\n",
        "\n",
        "# Function to handle student queries using Groq\n",
        "def student_chatbot(student_input):\n",
        "    try:\n",
        "        # Check if the query is relevant to students\n",
        "        if not is_student_query(student_input):\n",
        "            return \"This chatbot is only for educational questions. Please ask something related to your studies or school.\"\n",
        "\n",
        "        # Modify the prompt to be more educational and relevant to the query\n",
        "        prompt = f\"You are a helpful assistant for students. Answer the following question in a way that helps a student understand the topic better:\\n{student_input}\"\n",
        "\n",
        "        # Send the student's question to Groq's API and get a response\n",
        "        response = llm.invoke(prompt)\n",
        "\n",
        "        # Access the content directly from the response\n",
        "        content = response.content  # Accessing content directly\n",
        "        return content.strip()  # Return the content text\n",
        "\n",
        "    except Exception as e:\n",
        "        return f\"An error occurred: {str(e)}\"\n",
        "\n",
        "# Gradio Interface\n",
        "interface = gr.Interface(\n",
        "    fn=student_chatbot,  # This is the function to call when input is provided\n",
        "    inputs=gr.Textbox(label=\"Ask Your Question\", placeholder=\"Enter your question here...\"),\n",
        "    outputs=gr.Textbox(label=\"Answer\"),\n",
        "    title=\"Student Helper Chatbot\",  # Title of the Gradio app\n",
        "    description=\"Ask me any educational question, and I'll help you learn!\"  # Student-focused description\n",
        ")\n",
        "\n",
        "# Launch the app\n",
        "interface.launch()\n"
      ],
      "metadata": {
        "colab": {
          "base_uri": "https://localhost:8080/",
          "height": 650
        },
        "id": "IMorCYEOuxxQ",
        "outputId": "605785a1-2947-4ba7-8948-62e958f2e040"
      },
      "execution_count": 11,
      "outputs": [
        {
          "output_type": "stream",
          "name": "stdout",
          "text": [
            "Running Gradio in a Colab notebook requires sharing enabled. Automatically setting `share=True` (you can turn this off by setting `share=False` in `launch()` explicitly).\n",
            "\n",
            "Colab notebook detected. To show errors in colab notebook, set debug=True in launch()\n",
            "* Running on public URL: https://b06c3e0e13c960a27f.gradio.live\n",
            "\n",
            "This share link expires in 72 hours. For free permanent hosting and GPU upgrades, run `gradio deploy` from the terminal in the working directory to deploy to Hugging Face Spaces (https://huggingface.co/spaces)\n"
          ]
        },
        {
          "output_type": "display_data",
          "data": {
            "text/plain": [
              "<IPython.core.display.HTML object>"
            ],
            "text/html": [
              "<div><iframe src=\"https://b06c3e0e13c960a27f.gradio.live\" width=\"100%\" height=\"500\" allow=\"autoplay; camera; microphone; clipboard-read; clipboard-write;\" frameborder=\"0\" allowfullscreen></iframe></div>"
            ]
          },
          "metadata": {}
        },
        {
          "output_type": "execute_result",
          "data": {
            "text/plain": []
          },
          "metadata": {},
          "execution_count": 11
        }
      ]
    },
    {
      "cell_type": "code",
      "source": [],
      "metadata": {
        "id": "4uZt_vrKIUMn"
      },
      "execution_count": null,
      "outputs": []
    },
    {
      "cell_type": "code",
      "source": [
        "!pip -q install wikipedia"
      ],
      "metadata": {
        "id": "gmET5h8xvicV"
      },
      "execution_count": 18,
      "outputs": []
    },
    {
      "cell_type": "code",
      "source": [
        "!pip -q install wikipedia-api\n"
      ],
      "metadata": {
        "id": "7TKz6Y1nUlbP"
      },
      "execution_count": 19,
      "outputs": []
    },
    {
      "cell_type": "code",
      "source": [
        "!pip install pyspellchecker"
      ],
      "metadata": {
        "colab": {
          "base_uri": "https://localhost:8080/"
        },
        "id": "vP08aZXgweIB",
        "outputId": "62dd65ba-f0f2-4236-cc1a-a722b39d326a"
      },
      "execution_count": 14,
      "outputs": [
        {
          "output_type": "stream",
          "name": "stdout",
          "text": [
            "Requirement already satisfied: pyspellchecker in /usr/local/lib/python3.10/dist-packages (0.8.2)\n"
          ]
        }
      ]
    },
    {
      "cell_type": "code",
      "source": [
        "import os\n",
        "os.environ[\"TAVELI_API_KEY\"] = userdata.get('TAVELI_API_KEY')"
      ],
      "metadata": {
        "id": "tpWGxC8KS6yp"
      },
      "execution_count": 15,
      "outputs": []
    },
    {
      "cell_type": "code",
      "source": [
        "import gradio as gr\n",
        "from langchain_groq import ChatGroq\n",
        "from google.colab import userdata\n",
        "import wikipedia\n",
        "import sympy as sp\n",
        "from spellchecker import SpellChecker\n",
        "import wikipedia\n",
        "\n",
        "\n",
        "# Fetch your API keys from userdata\n",
        "groq_api_key = userdata.get('GROQ_API_KEY')\n",
        "taveli_api_key = userdata.get('TAVELI_API_KEY')\n",
        "\n",
        "# Initialize the Groq model\n",
        "llm = ChatGroq(model_name=\"llama-3.1-70b-versatile\", temperature=1, api_key=groq_api_key)\n",
        "\n",
        "\n",
        "# Initialize the spell checker\n",
        "spell = SpellChecker()\n",
        "\n",
        "# Tool 1: Spell Checker\n",
        "def check_spelling(text):\n",
        "    corrected_words = [spell.correction(word) for word in text.split()]\n",
        "    return \" \".join(corrected_words)\n",
        "\n",
        "# Tool 2: Wikipedia Search\n",
        "\n",
        "def search_wikipedia(query):\n",
        "    try:\n",
        "        # Search Wikipedia for a summary of the query\n",
        "        summary = wikipedia.summary(query, sentences=3)\n",
        "        return summary\n",
        "    except wikipedia.exceptions.DisambiguationError as e:\n",
        "        # Handle ambiguous queries\n",
        "        options = \", \".join(e.options[:5])  # Suggest up to 5 options\n",
        "        return f\"The query '{query}' is ambiguous. Did you mean one of the following? {options}\"\n",
        "    except wikipedia.exceptions.PageError:\n",
        "        # Handle queries with no matching page\n",
        "        return f\"No page found for '{query}'. Please try another search term.\"\n",
        "    except Exception as e:\n",
        "        # Handle any other exceptions\n",
        "        return f\"Could not find relevant information: {str(e)}\"\n",
        "\n",
        "\n",
        "\n",
        "# Tool 3: Calculator\n",
        "import re\n",
        "\n",
        "\n",
        "def calculate_expression(expression):\n",
        "    try:\n",
        "        # Use a regular expression to extract the mathematical expression\n",
        "        math_expression = re.search(r\"[\\d\\.\\+\\-\\*/\\^\\(\\)]+\", expression)\n",
        "\n",
        "        if math_expression:\n",
        "            result = sp.sympify(math_expression.group())\n",
        "            return str(result)  # Return the calculated result as a string\n",
        "        else:\n",
        "            return \"No valid mathematical expression found in the input.\"\n",
        "    except Exception as e:\n",
        "        return f\"Error in calculation: {str(e)}\"\n",
        "\n",
        "\n",
        "\n",
        "\n",
        "# Function to check if the query is student-related\n",
        "def student_chatbot(student_input):\n",
        "    try:\n",
        "        # Check if the query is relevant to students\n",
        "        if not is_student_query(student_input):\n",
        "            return \"This chatbot is only for educational questions. Please ask something related to your studies or school.\"\n",
        "\n",
        "        # Detect if the query is a calculation\n",
        "        if any(char.isdigit() for char in student_input) and any(op in student_input for op in [\"+\", \"-\", \"*\", \"/\", \"^\"]):\n",
        "            return f\"Calculator Result: {calculate_expression(student_input)}\"\n",
        "\n",
        "        # Detect if the query is a Wikipedia search\n",
        "        if \"wiki\" in student_input.lower() or \"information about\" in student_input.lower():\n",
        "            query = (\n",
        "                student_input.replace(\"wiki\", \"\")\n",
        "                .replace(\"information about\", \"\")\n",
        "                .strip()\n",
        "            )\n",
        "            return f\"Wikipedia Result: {search_wikipedia(query)}\"\n",
        "\n",
        "        # Detect if the query is a Taveli search\n",
        "        if \"search taveli\" in student_input.lower():\n",
        "            query = student_input.replace(\"search taveli\", \"\").strip()\n",
        "            return f\"Taveli Result: {search_taveli(query)}\"\n",
        "\n",
        "        # Detect if spelling corrections are needed\n",
        "        if \"check spelling\" in student_input.lower():\n",
        "            query = student_input.replace(\"check spelling\", \"\").strip()\n",
        "            return f\"Corrected Spelling: {check_spelling(query)}\"\n",
        "\n",
        "        # Default: Use the Groq model for student questions\n",
        "        prompt = f\"You are a helpful assistant for students. Answer the following question in a way that helps a student understand the topic better:\\n{student_input}\"\n",
        "        response = llm.invoke(prompt)\n",
        "        return response.content.strip()\n",
        "\n",
        "    except Exception as e:\n",
        "        return f\"An error occurred: {str(e)}\"\n",
        "\n",
        "\n",
        "# Gradio Interface\n",
        "interface = gr.Interface(\n",
        "    fn=student_chatbot,\n",
        "    inputs=gr.Textbox(label=\"Ask Your Question\", placeholder=\"Enter your question here...\"),\n",
        "    outputs=gr.Textbox(label=\"Answer\"),\n",
        "    title=\"Student Helper Chatbot\",\n",
        "    description=(\n",
        "        \"Ask me any educational question, and I'll help you learn! Features include:\\n\"\n",
        "        \"- Math calculations (e.g., 2+2*3).\\n\"\n",
        "        \"- Wikipedia search (e.g., 'wiki [topic]').\\n\"\n",
        "        \"- Taveli search (e.g., 'search taveli [topic]').\\n\"\n",
        "        \"- Spell checking (e.g., 'check spelling [text]').\"\n",
        "    )\n",
        ")\n",
        "\n",
        "# Launch the interface\n",
        "interface.launch()\n",
        "\n",
        "\n"
      ],
      "metadata": {
        "colab": {
          "base_uri": "https://localhost:8080/",
          "height": 650
        },
        "id": "gyeSFom2sTzY",
        "outputId": "f23f9483-986e-463a-e3bc-43d972a79b05"
      },
      "execution_count": 16,
      "outputs": [
        {
          "output_type": "stream",
          "name": "stdout",
          "text": [
            "Running Gradio in a Colab notebook requires sharing enabled. Automatically setting `share=True` (you can turn this off by setting `share=False` in `launch()` explicitly).\n",
            "\n",
            "Colab notebook detected. To show errors in colab notebook, set debug=True in launch()\n",
            "* Running on public URL: https://2972bf0300fd725780.gradio.live\n",
            "\n",
            "This share link expires in 72 hours. For free permanent hosting and GPU upgrades, run `gradio deploy` from the terminal in the working directory to deploy to Hugging Face Spaces (https://huggingface.co/spaces)\n"
          ]
        },
        {
          "output_type": "display_data",
          "data": {
            "text/plain": [
              "<IPython.core.display.HTML object>"
            ],
            "text/html": [
              "<div><iframe src=\"https://2972bf0300fd725780.gradio.live\" width=\"100%\" height=\"500\" allow=\"autoplay; camera; microphone; clipboard-read; clipboard-write;\" frameborder=\"0\" allowfullscreen></iframe></div>"
            ]
          },
          "metadata": {}
        },
        {
          "output_type": "execute_result",
          "data": {
            "text/plain": []
          },
          "metadata": {},
          "execution_count": 16
        }
      ]
    },
    {
      "cell_type": "code",
      "source": [],
      "metadata": {
        "id": "67BVIeCZsTkt"
      },
      "execution_count": 16,
      "outputs": []
    }
  ]
}