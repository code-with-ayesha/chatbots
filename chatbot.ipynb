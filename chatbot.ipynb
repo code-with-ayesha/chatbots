{
  "nbformat": 4,
  "nbformat_minor": 0,
  "metadata": {
    "colab": {
      "provenance": [],
      "include_colab_link": true
    },
    "kernelspec": {
      "name": "python3",
      "display_name": "Python 3"
    },
    "language_info": {
      "name": "python"
    }
  },
  "cells": [
    {
      "cell_type": "markdown",
      "metadata": {
        "id": "view-in-github",
        "colab_type": "text"
      },
      "source": [
        "<a href=\"https://colab.research.google.com/github/code-with-ayesha/chatbots/blob/main/chatbot.ipynb\" target=\"_parent\"><img src=\"https://colab.research.google.com/assets/colab-badge.svg\" alt=\"Open In Colab\"/></a>"
      ]
    },
    {
      "cell_type": "code",
      "execution_count": 1,
      "metadata": {
        "collapsed": true,
        "id": "59wdq6v4rcqv",
        "colab": {
          "base_uri": "https://localhost:8080/"
        },
        "outputId": "417f6f35-c6d1-400c-d29b-257f19787fa6"
      },
      "outputs": [
        {
          "output_type": "stream",
          "name": "stdout",
          "text": [
            "\u001b[2K   \u001b[90m━━━━━━━━━━━━━━━━━━━━━━━━━━━━━━━━━━━━━━━━\u001b[0m \u001b[32m57.2/57.2 MB\u001b[0m \u001b[31m16.5 MB/s\u001b[0m eta \u001b[36m0:00:00\u001b[0m\n",
            "\u001b[2K   \u001b[90m━━━━━━━━━━━━━━━━━━━━━━━━━━━━━━━━━━━━━━━━\u001b[0m \u001b[32m320.4/320.4 kB\u001b[0m \u001b[31m20.5 MB/s\u001b[0m eta \u001b[36m0:00:00\u001b[0m\n",
            "\u001b[2K   \u001b[90m━━━━━━━━━━━━━━━━━━━━━━━━━━━━━━━━━━━━━━━━\u001b[0m \u001b[32m411.6/411.6 kB\u001b[0m \u001b[31m23.4 MB/s\u001b[0m eta \u001b[36m0:00:00\u001b[0m\n",
            "\u001b[2K   \u001b[90m━━━━━━━━━━━━━━━━━━━━━━━━━━━━━━━━━━━━━━━━\u001b[0m \u001b[32m2.5/2.5 MB\u001b[0m \u001b[31m76.3 MB/s\u001b[0m eta \u001b[36m0:00:00\u001b[0m\n",
            "\u001b[2K   \u001b[90m━━━━━━━━━━━━━━━━━━━━━━━━━━━━━━━━━━━━━━━━\u001b[0m \u001b[32m1.0/1.0 MB\u001b[0m \u001b[31m46.9 MB/s\u001b[0m eta \u001b[36m0:00:00\u001b[0m\n",
            "\u001b[2K   \u001b[90m━━━━━━━━━━━━━━━━━━━━━━━━━━━━━━━━━━━━━━━━\u001b[0m \u001b[32m94.8/94.8 kB\u001b[0m \u001b[31m6.6 MB/s\u001b[0m eta \u001b[36m0:00:00\u001b[0m\n",
            "\u001b[2K   \u001b[90m━━━━━━━━━━━━━━━━━━━━━━━━━━━━━━━━━━━━━━━━\u001b[0m \u001b[32m109.1/109.1 kB\u001b[0m \u001b[31m8.0 MB/s\u001b[0m eta \u001b[36m0:00:00\u001b[0m\n",
            "\u001b[2K   \u001b[90m━━━━━━━━━━━━━━━━━━━━━━━━━━━━━━━━━━━━━━━━\u001b[0m \u001b[32m11.3/11.3 MB\u001b[0m \u001b[31m75.5 MB/s\u001b[0m eta \u001b[36m0:00:00\u001b[0m\n",
            "\u001b[2K   \u001b[90m━━━━━━━━━━━━━━━━━━━━━━━━━━━━━━━━━━━━━━━━\u001b[0m \u001b[32m73.2/73.2 kB\u001b[0m \u001b[31m5.5 MB/s\u001b[0m eta \u001b[36m0:00:00\u001b[0m\n",
            "\u001b[2K   \u001b[90m━━━━━━━━━━━━━━━━━━━━━━━━━━━━━━━━━━━━━━━━\u001b[0m \u001b[32m1.2/1.2 MB\u001b[0m \u001b[31m46.8 MB/s\u001b[0m eta \u001b[36m0:00:00\u001b[0m\n",
            "\u001b[2K   \u001b[90m━━━━━━━━━━━━━━━━━━━━━━━━━━━━━━━━━━━━━━━━\u001b[0m \u001b[32m62.3/62.3 kB\u001b[0m \u001b[31m4.3 MB/s\u001b[0m eta \u001b[36m0:00:00\u001b[0m\n",
            "\u001b[2K   \u001b[90m━━━━━━━━━━━━━━━━━━━━━━━━━━━━━━━━━━━━━━━━\u001b[0m \u001b[32m48.9/48.9 kB\u001b[0m \u001b[31m3.4 MB/s\u001b[0m eta \u001b[36m0:00:00\u001b[0m\n",
            "\u001b[?25h"
          ]
        }
      ],
      "source": [
        "!pip -q install gradio langchain langchain_groq langchain_core langchain_community tavily-python"
      ]
    },
    {
      "cell_type": "code",
      "source": [
        "!pip install langgraph"
      ],
      "metadata": {
        "collapsed": true,
        "colab": {
          "base_uri": "https://localhost:8080/"
        },
        "id": "p42DDVqcEkne",
        "outputId": "4fdff151-9619-4892-afe5-07e806cebb23"
      },
      "execution_count": 2,
      "outputs": [
        {
          "output_type": "stream",
          "name": "stdout",
          "text": [
            "Collecting langgraph\n",
            "  Downloading langgraph-0.2.60-py3-none-any.whl.metadata (15 kB)\n",
            "Requirement already satisfied: langchain-core!=0.3.0,!=0.3.1,!=0.3.10,!=0.3.11,!=0.3.12,!=0.3.13,!=0.3.14,!=0.3.15,!=0.3.16,!=0.3.17,!=0.3.18,!=0.3.19,!=0.3.2,!=0.3.20,!=0.3.21,!=0.3.22,!=0.3.3,!=0.3.4,!=0.3.5,!=0.3.6,!=0.3.7,!=0.3.8,!=0.3.9,<0.4.0,>=0.2.43 in /usr/local/lib/python3.10/dist-packages (from langgraph) (0.3.29)\n",
            "Collecting langgraph-checkpoint<3.0.0,>=2.0.4 (from langgraph)\n",
            "  Downloading langgraph_checkpoint-2.0.9-py3-none-any.whl.metadata (4.6 kB)\n",
            "Collecting langgraph-sdk<0.2.0,>=0.1.42 (from langgraph)\n",
            "  Downloading langgraph_sdk-0.1.48-py3-none-any.whl.metadata (1.8 kB)\n",
            "Requirement already satisfied: PyYAML>=5.3 in /usr/local/lib/python3.10/dist-packages (from langchain-core!=0.3.0,!=0.3.1,!=0.3.10,!=0.3.11,!=0.3.12,!=0.3.13,!=0.3.14,!=0.3.15,!=0.3.16,!=0.3.17,!=0.3.18,!=0.3.19,!=0.3.2,!=0.3.20,!=0.3.21,!=0.3.22,!=0.3.3,!=0.3.4,!=0.3.5,!=0.3.6,!=0.3.7,!=0.3.8,!=0.3.9,<0.4.0,>=0.2.43->langgraph) (6.0.2)\n",
            "Requirement already satisfied: jsonpatch<2.0,>=1.33 in /usr/local/lib/python3.10/dist-packages (from langchain-core!=0.3.0,!=0.3.1,!=0.3.10,!=0.3.11,!=0.3.12,!=0.3.13,!=0.3.14,!=0.3.15,!=0.3.16,!=0.3.17,!=0.3.18,!=0.3.19,!=0.3.2,!=0.3.20,!=0.3.21,!=0.3.22,!=0.3.3,!=0.3.4,!=0.3.5,!=0.3.6,!=0.3.7,!=0.3.8,!=0.3.9,<0.4.0,>=0.2.43->langgraph) (1.33)\n",
            "Requirement already satisfied: langsmith<0.3,>=0.1.125 in /usr/local/lib/python3.10/dist-packages (from langchain-core!=0.3.0,!=0.3.1,!=0.3.10,!=0.3.11,!=0.3.12,!=0.3.13,!=0.3.14,!=0.3.15,!=0.3.16,!=0.3.17,!=0.3.18,!=0.3.19,!=0.3.2,!=0.3.20,!=0.3.21,!=0.3.22,!=0.3.3,!=0.3.4,!=0.3.5,!=0.3.6,!=0.3.7,!=0.3.8,!=0.3.9,<0.4.0,>=0.2.43->langgraph) (0.2.3)\n",
            "Requirement already satisfied: packaging<25,>=23.2 in /usr/local/lib/python3.10/dist-packages (from langchain-core!=0.3.0,!=0.3.1,!=0.3.10,!=0.3.11,!=0.3.12,!=0.3.13,!=0.3.14,!=0.3.15,!=0.3.16,!=0.3.17,!=0.3.18,!=0.3.19,!=0.3.2,!=0.3.20,!=0.3.21,!=0.3.22,!=0.3.3,!=0.3.4,!=0.3.5,!=0.3.6,!=0.3.7,!=0.3.8,!=0.3.9,<0.4.0,>=0.2.43->langgraph) (24.2)\n",
            "Requirement already satisfied: pydantic<3.0.0,>=2.5.2 in /usr/local/lib/python3.10/dist-packages (from langchain-core!=0.3.0,!=0.3.1,!=0.3.10,!=0.3.11,!=0.3.12,!=0.3.13,!=0.3.14,!=0.3.15,!=0.3.16,!=0.3.17,!=0.3.18,!=0.3.19,!=0.3.2,!=0.3.20,!=0.3.21,!=0.3.22,!=0.3.3,!=0.3.4,!=0.3.5,!=0.3.6,!=0.3.7,!=0.3.8,!=0.3.9,<0.4.0,>=0.2.43->langgraph) (2.10.3)\n",
            "Requirement already satisfied: tenacity!=8.4.0,<10.0.0,>=8.1.0 in /usr/local/lib/python3.10/dist-packages (from langchain-core!=0.3.0,!=0.3.1,!=0.3.10,!=0.3.11,!=0.3.12,!=0.3.13,!=0.3.14,!=0.3.15,!=0.3.16,!=0.3.17,!=0.3.18,!=0.3.19,!=0.3.2,!=0.3.20,!=0.3.21,!=0.3.22,!=0.3.3,!=0.3.4,!=0.3.5,!=0.3.6,!=0.3.7,!=0.3.8,!=0.3.9,<0.4.0,>=0.2.43->langgraph) (9.0.0)\n",
            "Requirement already satisfied: typing-extensions>=4.7 in /usr/local/lib/python3.10/dist-packages (from langchain-core!=0.3.0,!=0.3.1,!=0.3.10,!=0.3.11,!=0.3.12,!=0.3.13,!=0.3.14,!=0.3.15,!=0.3.16,!=0.3.17,!=0.3.18,!=0.3.19,!=0.3.2,!=0.3.20,!=0.3.21,!=0.3.22,!=0.3.3,!=0.3.4,!=0.3.5,!=0.3.6,!=0.3.7,!=0.3.8,!=0.3.9,<0.4.0,>=0.2.43->langgraph) (4.12.2)\n",
            "Requirement already satisfied: msgpack<2.0.0,>=1.1.0 in /usr/local/lib/python3.10/dist-packages (from langgraph-checkpoint<3.0.0,>=2.0.4->langgraph) (1.1.0)\n",
            "Requirement already satisfied: httpx>=0.25.2 in /usr/local/lib/python3.10/dist-packages (from langgraph-sdk<0.2.0,>=0.1.42->langgraph) (0.28.1)\n",
            "Requirement already satisfied: orjson>=3.10.1 in /usr/local/lib/python3.10/dist-packages (from langgraph-sdk<0.2.0,>=0.1.42->langgraph) (3.10.12)\n",
            "Requirement already satisfied: anyio in /usr/local/lib/python3.10/dist-packages (from httpx>=0.25.2->langgraph-sdk<0.2.0,>=0.1.42->langgraph) (3.7.1)\n",
            "Requirement already satisfied: certifi in /usr/local/lib/python3.10/dist-packages (from httpx>=0.25.2->langgraph-sdk<0.2.0,>=0.1.42->langgraph) (2024.12.14)\n",
            "Requirement already satisfied: httpcore==1.* in /usr/local/lib/python3.10/dist-packages (from httpx>=0.25.2->langgraph-sdk<0.2.0,>=0.1.42->langgraph) (1.0.7)\n",
            "Requirement already satisfied: idna in /usr/local/lib/python3.10/dist-packages (from httpx>=0.25.2->langgraph-sdk<0.2.0,>=0.1.42->langgraph) (3.10)\n",
            "Requirement already satisfied: h11<0.15,>=0.13 in /usr/local/lib/python3.10/dist-packages (from httpcore==1.*->httpx>=0.25.2->langgraph-sdk<0.2.0,>=0.1.42->langgraph) (0.14.0)\n",
            "Requirement already satisfied: jsonpointer>=1.9 in /usr/local/lib/python3.10/dist-packages (from jsonpatch<2.0,>=1.33->langchain-core!=0.3.0,!=0.3.1,!=0.3.10,!=0.3.11,!=0.3.12,!=0.3.13,!=0.3.14,!=0.3.15,!=0.3.16,!=0.3.17,!=0.3.18,!=0.3.19,!=0.3.2,!=0.3.20,!=0.3.21,!=0.3.22,!=0.3.3,!=0.3.4,!=0.3.5,!=0.3.6,!=0.3.7,!=0.3.8,!=0.3.9,<0.4.0,>=0.2.43->langgraph) (3.0.0)\n",
            "Requirement already satisfied: requests<3,>=2 in /usr/local/lib/python3.10/dist-packages (from langsmith<0.3,>=0.1.125->langchain-core!=0.3.0,!=0.3.1,!=0.3.10,!=0.3.11,!=0.3.12,!=0.3.13,!=0.3.14,!=0.3.15,!=0.3.16,!=0.3.17,!=0.3.18,!=0.3.19,!=0.3.2,!=0.3.20,!=0.3.21,!=0.3.22,!=0.3.3,!=0.3.4,!=0.3.5,!=0.3.6,!=0.3.7,!=0.3.8,!=0.3.9,<0.4.0,>=0.2.43->langgraph) (2.32.3)\n",
            "Requirement already satisfied: requests-toolbelt<2.0.0,>=1.0.0 in /usr/local/lib/python3.10/dist-packages (from langsmith<0.3,>=0.1.125->langchain-core!=0.3.0,!=0.3.1,!=0.3.10,!=0.3.11,!=0.3.12,!=0.3.13,!=0.3.14,!=0.3.15,!=0.3.16,!=0.3.17,!=0.3.18,!=0.3.19,!=0.3.2,!=0.3.20,!=0.3.21,!=0.3.22,!=0.3.3,!=0.3.4,!=0.3.5,!=0.3.6,!=0.3.7,!=0.3.8,!=0.3.9,<0.4.0,>=0.2.43->langgraph) (1.0.0)\n",
            "Requirement already satisfied: annotated-types>=0.6.0 in /usr/local/lib/python3.10/dist-packages (from pydantic<3.0.0,>=2.5.2->langchain-core!=0.3.0,!=0.3.1,!=0.3.10,!=0.3.11,!=0.3.12,!=0.3.13,!=0.3.14,!=0.3.15,!=0.3.16,!=0.3.17,!=0.3.18,!=0.3.19,!=0.3.2,!=0.3.20,!=0.3.21,!=0.3.22,!=0.3.3,!=0.3.4,!=0.3.5,!=0.3.6,!=0.3.7,!=0.3.8,!=0.3.9,<0.4.0,>=0.2.43->langgraph) (0.7.0)\n",
            "Requirement already satisfied: pydantic-core==2.27.1 in /usr/local/lib/python3.10/dist-packages (from pydantic<3.0.0,>=2.5.2->langchain-core!=0.3.0,!=0.3.1,!=0.3.10,!=0.3.11,!=0.3.12,!=0.3.13,!=0.3.14,!=0.3.15,!=0.3.16,!=0.3.17,!=0.3.18,!=0.3.19,!=0.3.2,!=0.3.20,!=0.3.21,!=0.3.22,!=0.3.3,!=0.3.4,!=0.3.5,!=0.3.6,!=0.3.7,!=0.3.8,!=0.3.9,<0.4.0,>=0.2.43->langgraph) (2.27.1)\n",
            "Requirement already satisfied: charset-normalizer<4,>=2 in /usr/local/lib/python3.10/dist-packages (from requests<3,>=2->langsmith<0.3,>=0.1.125->langchain-core!=0.3.0,!=0.3.1,!=0.3.10,!=0.3.11,!=0.3.12,!=0.3.13,!=0.3.14,!=0.3.15,!=0.3.16,!=0.3.17,!=0.3.18,!=0.3.19,!=0.3.2,!=0.3.20,!=0.3.21,!=0.3.22,!=0.3.3,!=0.3.4,!=0.3.5,!=0.3.6,!=0.3.7,!=0.3.8,!=0.3.9,<0.4.0,>=0.2.43->langgraph) (3.4.0)\n",
            "Requirement already satisfied: urllib3<3,>=1.21.1 in /usr/local/lib/python3.10/dist-packages (from requests<3,>=2->langsmith<0.3,>=0.1.125->langchain-core!=0.3.0,!=0.3.1,!=0.3.10,!=0.3.11,!=0.3.12,!=0.3.13,!=0.3.14,!=0.3.15,!=0.3.16,!=0.3.17,!=0.3.18,!=0.3.19,!=0.3.2,!=0.3.20,!=0.3.21,!=0.3.22,!=0.3.3,!=0.3.4,!=0.3.5,!=0.3.6,!=0.3.7,!=0.3.8,!=0.3.9,<0.4.0,>=0.2.43->langgraph) (2.2.3)\n",
            "Requirement already satisfied: sniffio>=1.1 in /usr/local/lib/python3.10/dist-packages (from anyio->httpx>=0.25.2->langgraph-sdk<0.2.0,>=0.1.42->langgraph) (1.3.1)\n",
            "Requirement already satisfied: exceptiongroup in /usr/local/lib/python3.10/dist-packages (from anyio->httpx>=0.25.2->langgraph-sdk<0.2.0,>=0.1.42->langgraph) (1.2.2)\n",
            "Downloading langgraph-0.2.60-py3-none-any.whl (135 kB)\n",
            "\u001b[2K   \u001b[90m━━━━━━━━━━━━━━━━━━━━━━━━━━━━━━━━━━━━━━━━\u001b[0m \u001b[32m135.7/135.7 kB\u001b[0m \u001b[31m4.9 MB/s\u001b[0m eta \u001b[36m0:00:00\u001b[0m\n",
            "\u001b[?25hDownloading langgraph_checkpoint-2.0.9-py3-none-any.whl (37 kB)\n",
            "Downloading langgraph_sdk-0.1.48-py3-none-any.whl (43 kB)\n",
            "\u001b[2K   \u001b[90m━━━━━━━━━━━━━━━━━━━━━━━━━━━━━━━━━━━━━━━━\u001b[0m \u001b[32m43.7/43.7 kB\u001b[0m \u001b[31m3.3 MB/s\u001b[0m eta \u001b[36m0:00:00\u001b[0m\n",
            "\u001b[?25hInstalling collected packages: langgraph-sdk, langgraph-checkpoint, langgraph\n",
            "Successfully installed langgraph-0.2.60 langgraph-checkpoint-2.0.9 langgraph-sdk-0.1.48\n"
          ]
        }
      ]
    },
    {
      "cell_type": "code",
      "source": [
        "from google.colab import userdata\n",
        "TAVELI_API_KEY = userdata.get('TAVELI_API_KEY')"
      ],
      "metadata": {
        "id": "HDmTJDBiShbz"
      },
      "execution_count": 3,
      "outputs": []
    },
    {
      "cell_type": "code",
      "source": [
        "from typing import TypedDict\n",
        "\n",
        "class ChatBotState(TypedDict):\n",
        "    step: str\n",
        "    user_input: str\n",
        "    query_type: str  # Example values: \"student_query\" or \"non_student_query\"\n",
        "    response: str\n"
      ],
      "metadata": {
        "id": "qN71B5n5DshF"
      },
      "execution_count": 4,
      "outputs": []
    },
    {
      "cell_type": "code",
      "source": [
        "def receive_query(state: ChatBotState) -> ChatBotState:\n",
        "    # Simulates user input captured through Gradio\n",
        "    state[\"step\"] = \"check_query_type\"\n",
        "    return state\n",
        "\n",
        "def check_query_type(state: ChatBotState) -> ChatBotState:\n",
        "    if is_student_query(state[\"user_input\"]):\n",
        "        state[\"query_type\"] = \"student_query\"\n",
        "        state[\"step\"] = \"handle_student_query\"\n",
        "    else:\n",
        "        state[\"query_type\"] = \"non_student_query\"\n",
        "        state[\"step\"] = \"handle_non_student_query\"\n",
        "    return state\n",
        "\n",
        "def handle_student_query(state: ChatBotState) -> ChatBotState:\n",
        "    try:\n",
        "        prompt = f\"You are a helpful assistant for students. Answer this question:\\n{state['user_input']}\"\n",
        "        response = llm.invoke(prompt)\n",
        "        state[\"response\"] = response.content.strip()\n",
        "        state[\"step\"] = \"end\"\n",
        "    except Exception as e:\n",
        "        state[\"response\"] = f\"An error occurred: {str(e)}\"\n",
        "        state[\"step\"] = \"error_handling\"\n",
        "    return state\n",
        "\n",
        "def handle_non_student_query(state: ChatBotState) -> ChatBotState:\n",
        "    state[\"response\"] = (\n",
        "        \"This chatbot is only for educational questions. Please ask something related to your studies or school.\"\n",
        "    )\n",
        "    state[\"step\"] = \"end\"\n",
        "    return state\n",
        "\n",
        "def error_handling(state: ChatBotState) -> ChatBotState:\n",
        "    # Handle any errors that occur during processing\n",
        "    state[\"response\"] = \"An unexpected error occurred. Please try again.\"\n",
        "    state[\"step\"] = \"end\"\n",
        "    return state\n"
      ],
      "metadata": {
        "id": "qSQaSVgiDzgt"
      },
      "execution_count": 5,
      "outputs": []
    },
    {
      "cell_type": "code",
      "source": [
        "from langgraph.graph import StateGraph, START, END\n",
        "from IPython.display import Image, display\n",
        "\n",
        "# Initialize the graph builder with the state schema\n",
        "builder = StateGraph(state_schema=ChatBotState)\n",
        "\n",
        "# Add nodes\n",
        "builder.add_node(\"receive_query\", receive_query)\n",
        "builder.add_node(\"check_query_type\", check_query_type)\n",
        "builder.add_node(\"handle_student_query\", handle_student_query)\n",
        "builder.add_node(\"handle_non_student_query\", handle_non_student_query)\n",
        "builder.add_node(\"error_handling\", error_handling)\n",
        "\n",
        "# Define edges\n",
        "builder.add_edge(START, \"receive_query\")\n",
        "builder.add_edge(\"receive_query\", \"check_query_type\")\n",
        "builder.add_conditional_edges(\n",
        "    \"check_query_type\", lambda state: state[\"step\"]  # Transition to appropriate node\n",
        ")\n",
        "builder.add_edge(\"handle_student_query\", END)\n",
        "builder.add_edge(\"handle_non_student_query\", END)\n",
        "builder.add_edge(\"error_handling\", END)\n",
        "\n",
        "# Compile the graph\n",
        "chatbot_graph = builder.compile()\n",
        "\n",
        "# Visualize the graph\n",
        "display(Image(chatbot_graph.get_graph().draw_mermaid_png()))\n"
      ],
      "metadata": {
        "colab": {
          "base_uri": "https://localhost:8080/",
          "height": 449
        },
        "id": "lJjM083iEGQX",
        "outputId": "39b3910e-7439-4cbc-df35-8c46d7e40f75"
      },
      "execution_count": 6,
      "outputs": [
        {
          "output_type": "display_data",
          "data": {
            "image/png": "[encoded data removed]",
            "text/plain": [
              "<IPython.core.display.Image object>"
            ]
          },
          "metadata": {}
        }
      ]
    },
    {
      "cell_type": "code",
      "source": [
        "def chatbot_interface(user_input):\n",
        "    # Initialize state\n",
        "    state = ChatBotState(step=\"\", user_input=user_input, query_type=\"\", response=\"\")\n",
        "\n",
        "    # Start the workflow\n",
        "    current_node = chatbot_graph.get_node(START)\n",
        "    while current_node.id != END:\n",
        "        state = current_node.function(state)\n",
        "        current_node = chatbot_graph.get_node(state[\"step\"])\n",
        "\n",
        "    # Return the final response\n",
        "    return state[\"response\"]\n"
      ],
      "metadata": {
        "id": "KOvU5e3cFYxS"
      },
      "execution_count": 7,
      "outputs": []
    },
    {
      "cell_type": "code",
      "source": [
        "import gradio as gr\n",
        "from langchain_groq import ChatGroq\n",
        "from google.colab import userdata\n",
        "\n",
        "\n",
        "# Fetch your API key from userdata\n",
        "groq_api_key = userdata.get('GROQ_API_KEY')\n",
        "\n",
        "# Initialize the Groq model (e.g., \"llama-3.1-70b-versatile\")\n",
        "llm = ChatGroq(model_name=\"llama-3.1-70b-versatile\", temperature=1, api_key=groq_api_key)\n",
        "\n",
        "# Function to check if the query is student-related\n",
        "def is_student_query(query):\n",
        "    # List of keywords related to student topics (you can extend this)\n",
        "    student_keywords = [\"homework\", \"study\", \"math\", \"science\", \"history\", \"assignment\", \"school\", \"exam\",\"spelling\",\"wiki\"]\n",
        "    return any(keyword.lower() in query.lower() for keyword in student_keywords)\n",
        "\n",
        "# Function to handle student queries using Groq\n",
        "def student_chatbot(student_input):\n",
        "    try:\n",
        "        # Check if the query is relevant to students\n",
        "        if not is_student_query(student_input):\n",
        "            return \"This chatbot is only for educational questions. Please ask something related to your studies or school.\"\n",
        "\n",
        "        # Modify the prompt to be more educational and relevant to the query\n",
        "        prompt = f\"You are a helpful assistant for students. Answer the following question in a way that helps a student understand the topic better:\\n{student_input}\"\n",
        "\n",
        "        # Send the student's question to Groq's API and get a response\n",
        "        response = llm.invoke(prompt)\n",
        "\n",
        "        # Access the content directly from the response\n",
        "        content = response.content  # Accessing content directly\n",
        "        return content.strip()  # Return the content text\n",
        "\n",
        "    except Exception as e:\n",
        "        return f\"An error occurred: {str(e)}\"\n",
        "\n",
        "# Gradio Interface\n",
        "interface = gr.Interface(\n",
        "    fn=student_chatbot,  # This is the function to call when input is provided\n",
        "    inputs=gr.Textbox(label=\"Ask Your Question\", placeholder=\"Enter your question here...\"),\n",
        "    outputs=gr.Textbox(label=\"Answer\"),\n",
        "    title=\"Student Helper Chatbot\",  # Title of the Gradio app\n",
        "    description=\"Ask me any educational question, and I'll help you learn!\"  # Student-focused description\n",
        ")\n",
        "\n",
        "# Launch the app\n",
        "interface.launch()\n"
      ],
      "metadata": {
        "colab": {
          "base_uri": "https://localhost:8080/",
          "height": 650
        },
        "id": "IMorCYEOuxxQ",
        "outputId": "6b30a668-c8ab-4b9b-8d76-1b741b3b4463"
      },
      "execution_count": 8,
      "outputs": [
        {
          "output_type": "stream",
          "name": "stdout",
          "text": [
            "Running Gradio in a Colab notebook requires sharing enabled. Automatically setting `share=True` (you can turn this off by setting `share=False` in `launch()` explicitly).\n",
            "\n",
            "Colab notebook detected. To show errors in colab notebook, set debug=True in launch()\n",
            "* Running on public URL: https://2f3aa2cdbe52105531.gradio.live\n",
            "\n",
            "This share link expires in 72 hours. For free permanent hosting and GPU upgrades, run `gradio deploy` from the terminal in the working directory to deploy to Hugging Face Spaces (https://huggingface.co/spaces)\n"
          ]
        },
        {
          "output_type": "display_data",
          "data": {
            "text/plain": [
              "<IPython.core.display.HTML object>"
            ],
            "text/html": [
              "<div><iframe src=\"https://2f3aa2cdbe52105531.gradio.live\" width=\"100%\" height=\"500\" allow=\"autoplay; camera; microphone; clipboard-read; clipboard-write;\" frameborder=\"0\" allowfullscreen></iframe></div>"
            ]
          },
          "metadata": {}
        },
        {
          "output_type": "execute_result",
          "data": {
            "text/plain": []
          },
          "metadata": {},
          "execution_count": 8
        }
      ]
    },
    {
      "cell_type": "markdown",
      "source": [
        "workflow after binding the tools\n"
      ],
      "metadata": {
        "id": "plAXcIqeHxW6"
      }
    },
    {
      "cell_type": "code",
      "source": [
        "from typing import TypedDict\n",
        "\n",
        "class ChatBotState(TypedDict):\n",
        "    user_input: str\n",
        "    task: str  # The tool/task being used (e.g., \"calculator\", \"wiki\", etc.)\n",
        "    response: str  # The chatbot's response\n"
      ],
      "metadata": {
        "id": "ekWZRW1OHv1j"
      },
      "execution_count": 9,
      "outputs": []
    },
    {
      "cell_type": "code",
      "source": [
        "def receive_query(state: ChatBotState) -> ChatBotState:\n",
        "    # This is the starting node where the chatbot receives the query\n",
        "    state[\"task\"] = \"determine_task\"\n",
        "    return state\n",
        "\n",
        "def determine_task(state: ChatBotState) -> ChatBotState:\n",
        "    query = state[\"user_input\"].lower()\n",
        "    if any(char.isdigit() for char in query) and any(op in query for op in [\"+\", \"-\", \"*\", \"/\", \"^\"]):\n",
        "        state[\"task\"] = \"calculator\"\n",
        "    elif \"wiki\" in query or \"information about\" in query:\n",
        "        state[\"task\"] = \"wikipedia\"\n",
        "    elif \"check spelling\" in query:\n",
        "        state[\"task\"] = \"spell_checker\"\n",
        "    elif \"search taveli\" in query:\n",
        "        state[\"task\"] = \"taveli_search\"\n",
        "    else:\n",
        "        state[\"task\"] = \"groq\"\n",
        "    return state\n",
        "\n",
        "def calculator_task(state: ChatBotState) -> ChatBotState:\n",
        "    state[\"response\"] = f\"Calculator Result: {calculate_expression(state['user_input'])}\"\n",
        "    return state\n",
        "\n",
        "def wikipedia_task(state: ChatBotState) -> ChatBotState:\n",
        "    query = state[\"user_input\"].replace(\"wiki\", \"\").replace(\"information about\", \"\").strip()\n",
        "    state[\"response\"] = f\"Wikipedia Result: {search_wikipedia(query)}\"\n",
        "    return state\n",
        "\n",
        "def spell_checker_task(state: ChatBotState) -> ChatBotState:\n",
        "    query = state[\"user_input\"].replace(\"check spelling\", \"\").strip()\n",
        "    state[\"response\"] = f\"Corrected Spelling: {check_spelling(query)}\"\n",
        "    return state\n",
        "\n",
        "def taveli_task(state: ChatBotState) -> ChatBotState:\n",
        "    query = state[\"user_input\"].replace(\"search taveli\", \"\").strip()\n",
        "    state[\"response\"] = f\"Taveli Result: {search_taveli(query)}\"  # Assuming a function `search_taveli`\n",
        "    return state\n",
        "\n",
        "def groq_task(state: ChatBotState) -> ChatBotState:\n",
        "    prompt = f\"You are a helpful assistant for students. Answer this question:\\n{state['user_input']}\"\n",
        "    response = llm.invoke(prompt)\n",
        "    state[\"response\"] = response.content.strip()\n",
        "    return state\n",
        "\n",
        "def error_task(state: ChatBotState) -> ChatBotState:\n",
        "    state[\"response\"] = \"An error occurred. Please try again.\"\n",
        "    return state\n"
      ],
      "metadata": {
        "id": "zQhd-OtSIHjM"
      },
      "execution_count": 10,
      "outputs": []
    },
    {
      "cell_type": "code",
      "source": [
        "from langgraph.graph import StateGraph, START, END\n",
        "from IPython.display import Image, display\n",
        "\n",
        "# Initialize the graph builder with the state schema\n",
        "builder = StateGraph(state_schema=ChatBotState)\n",
        "\n",
        "# Add nodes\n",
        "builder.add_node(\"receive_query\", receive_query)\n",
        "builder.add_node(\"determine_task\", determine_task)\n",
        "builder.add_node(\"calculator\", calculator_task)\n",
        "builder.add_node(\"wikipedia\", wikipedia_task)\n",
        "builder.add_node(\"spell_checker\", spell_checker_task)\n",
        "builder.add_node(\"taveli_search\", taveli_task)\n",
        "builder.add_node(\"groq\", groq_task)\n",
        "builder.add_node(\"error\", error_task)\n",
        "\n",
        "# Define edges\n",
        "builder.add_edge(START, \"receive_query\")\n",
        "builder.add_edge(\"receive_query\", \"determine_task\")\n",
        "builder.add_conditional_edges(\n",
        "    \"determine_task\",\n",
        "    lambda state: state[\"task\"],  # Route based on the task identified\n",
        ")\n",
        "builder.add_edge(\"calculator\", END)\n",
        "builder.add_edge(\"wikipedia\", END)\n",
        "builder.add_edge(\"spell_checker\", END)\n",
        "builder.add_edge(\"taveli_search\", END)\n",
        "builder.add_edge(\"groq\", END)\n",
        "builder.add_edge(\"error\", END)\n",
        "\n",
        "# Compile the graph\n",
        "chatbot_graph = builder.compile()\n",
        "\n",
        "# Visualize the graph\n",
        "display(Image(chatbot_graph.get_graph().draw_mermaid_png()))\n"
      ],
      "metadata": {
        "colab": {
          "base_uri": "https://localhost:8080/",
          "height": 449
        },
        "id": "yZWubYLYIRNC",
        "outputId": "5deea769-e119-483a-afc1-1b9a0b781d42"
      },
      "execution_count": 11,
      "outputs": [
        {
          "output_type": "display_data",
          "data": {
            "image/png": "[encoded data removed]",
            "text/plain": [
              "<IPython.core.display.Image object>"
            ]
          },
          "metadata": {}
        }
      ]
    },
    {
      "cell_type": "code",
      "source": [
        "!pip -q install wikipedia"
      ],
      "metadata": {
        "id": "gmET5h8xvicV",
        "colab": {
          "base_uri": "https://localhost:8080/"
        },
        "outputId": "decf377e-626a-4d3b-b0cb-f5b35f4b2802"
      },
      "execution_count": 12,
      "outputs": [
        {
          "output_type": "stream",
          "name": "stdout",
          "text": [
            "  Preparing metadata (setup.py) ... \u001b[?25l\u001b[?25hdone\n",
            "  Building wheel for wikipedia (setup.py) ... \u001b[?25l\u001b[?25hdone\n"
          ]
        }
      ]
    },
    {
      "cell_type": "code",
      "source": [
        "!pip -q install wikipedia-api\n"
      ],
      "metadata": {
        "id": "7TKz6Y1nUlbP",
        "colab": {
          "base_uri": "https://localhost:8080/"
        },
        "outputId": "10cf50ed-4c1b-4755-f31a-bbb2ada8cf9c"
      },
      "execution_count": 13,
      "outputs": [
        {
          "output_type": "stream",
          "name": "stdout",
          "text": [
            "  Preparing metadata (setup.py) ... \u001b[?25l\u001b[?25hdone\n",
            "  Building wheel for wikipedia-api (setup.py) ... \u001b[?25l\u001b[?25hdone\n"
          ]
        }
      ]
    },
    {
      "cell_type": "code",
      "source": [
        "!pip install pyspellchecker"
      ],
      "metadata": {
        "colab": {
          "base_uri": "https://localhost:8080/"
        },
        "id": "vP08aZXgweIB",
        "outputId": "003b3a24-3b72-4994-f822-23b974974cfb"
      },
      "execution_count": 14,
      "outputs": [
        {
          "output_type": "stream",
          "name": "stdout",
          "text": [
            "Collecting pyspellchecker\n",
            "  Downloading pyspellchecker-0.8.2-py3-none-any.whl.metadata (9.4 kB)\n",
            "Downloading pyspellchecker-0.8.2-py3-none-any.whl (7.1 MB)\n",
            "\u001b[2K   \u001b[90m━━━━━━━━━━━━━━━━━━━━━━━━━━━━━━━━━━━━━━━━\u001b[0m \u001b[32m7.1/7.1 MB\u001b[0m \u001b[31m63.1 MB/s\u001b[0m eta \u001b[36m0:00:00\u001b[0m\n",
            "\u001b[?25hInstalling collected packages: pyspellchecker\n",
            "Successfully installed pyspellchecker-0.8.2\n"
          ]
        }
      ]
    },
    {
      "cell_type": "code",
      "source": [
        "import os\n",
        "os.environ[\"TAVELI_API_KEY\"] = userdata.get('TAVELI_API_KEY')"
      ],
      "metadata": {
        "id": "tpWGxC8KS6yp"
      },
      "execution_count": 15,
      "outputs": []
    },
    {
      "cell_type": "code",
      "source": [
        "# Instead of:\n",
        "# from langgraph_sdk import StateGraph\n",
        "\n",
        "# Use:\n",
        "from langgraph.graph import StateGraph # Import StateGraph from langgraph.graph"
      ],
      "metadata": {
        "id": "vlbQ_gOi0RW0"
      },
      "execution_count": 16,
      "outputs": []
    },
    {
      "cell_type": "code",
      "source": [
        "import gradio as gr\n",
        "from langchain_groq import ChatGroq\n",
        "from google.colab import userdata\n",
        "import wikipedia\n",
        "import sympy as sp\n",
        "from spellchecker import SpellChecker\n",
        "import re\n",
        "\n",
        "# Fetch your API keys from userdata\n",
        "groq_api_key = userdata.get('GROQ_API_KEY')\n",
        "\n",
        "# Initialize the Groq model\n",
        "llm = ChatGroq(model_name=\"llama-3.1-70b-versatile\", temperature=1, api_key=groq_api_key)\n",
        "\n",
        "# Initialize the spell checker\n",
        "spell = SpellChecker()\n",
        "\n",
        "# Tool 1: Spell Checker\n",
        "def check_spelling(text):\n",
        "    corrected_words = [spell.correction(word) for word in text.split()]\n",
        "    return \" \".join(corrected_words)\n",
        "\n",
        "# Tool 2: Wikipedia Search\n",
        "def search_wikipedia(query):\n",
        "    try:\n",
        "        # Search Wikipedia for a summary of the query\n",
        "        summary = wikipedia.summary(query, sentences=3)\n",
        "        return summary\n",
        "    except wikipedia.exceptions.DisambiguationError as e:\n",
        "        options = \", \".join(e.options[:5])  # Suggest up to 5 options\n",
        "        return f\"The query '{query}' is ambiguous. Did you mean one of the following? {options}\"\n",
        "    except wikipedia.exceptions.PageError:\n",
        "        return f\"No page found for '{query}'. Please try another search term.\"\n",
        "    except Exception as e:\n",
        "        return f\"Could not find relevant information: {str(e)}\"\n",
        "\n",
        "# Tool 3: Calculator\n",
        "def calculate_expression(expression):\n",
        "    try:\n",
        "        # Validate mathematical expression using a regex\n",
        "        math_expression = re.fullmatch(r\"[\\d\\.\\+\\-\\*/\\^\\(\\)\\s]+\", expression)\n",
        "        if not math_expression:\n",
        "            return \"Error: Invalid mathematical syntax in the input.\"\n",
        "\n",
        "        # Safely evaluate the mathematical expression using sympy\n",
        "        result = sp.sympify(math_expression.group())\n",
        "        return str(result)  # Return the calculated result as a string\n",
        "    except sp.SympifyError:\n",
        "        return \"Error: Invalid mathematical expression.\"\n",
        "    except Exception as e:\n",
        "        return f\"Error in calculation: {str(e)}\"\n",
        "\n",
        "# Function to check if the query is educational\n",
        "def is_educational_query(query):\n",
        "    # List of words related to jokes or entertainment\n",
        "    non_educational_keywords = ['joke', 'funny', 'humor', 'meme', 'laugh']\n",
        "\n",
        "    # Check if the query contains any non-educational keywords\n",
        "    for word in non_educational_keywords:\n",
        "        if word.lower() in query.lower():\n",
        "            return False\n",
        "    return True\n",
        "\n",
        "# Function to process the input query\n",
        "def process_query(student_input):\n",
        "    try:\n",
        "        # Reject non-educational queries\n",
        "        if not is_educational_query(student_input):\n",
        "            return \"This chatbot is designed for educational purposes only. Please ask an educational question.\"\n",
        "\n",
        "        # Detect if the query is a calculation\n",
        "        if any(char.isdigit() for char in student_input) and any(op in student_input for op in [\"+\", \"-\", \"*\", \"/\", \"^\"]):\n",
        "            return f\"Calculator Result: {calculate_expression(student_input)}\"\n",
        "\n",
        "        # Detect if the query is a Wikipedia search\n",
        "        if \"wiki\" in student_input.lower() or \"information about\" in student_input.lower():\n",
        "            query = student_input.replace(\"wiki\", \"\").replace(\"information about\", \"\").strip()\n",
        "            return f\"Wikipedia Result: {search_wikipedia(query)}\"\n",
        "\n",
        "        # Detect if spelling corrections are needed\n",
        "        if \"check spelling\" in student_input.lower():\n",
        "            query = student_input.replace(\"check spelling\", \"\").strip()\n",
        "            return f\"Corrected Spelling: {check_spelling(query)}\"\n",
        "\n",
        "        # Default: Use the Groq model for student questions\n",
        "        prompt = f\"You are a helpful assistant for students. Answer the following question in a way that helps a student understand the topic better:\\n{student_input}\"\n",
        "        response = llm.invoke(prompt)\n",
        "        return response.content.strip()\n",
        "    except Exception as e:\n",
        "        return f\"An error occurred: {str(e)}\"\n",
        "\n",
        "# Gradio Interface\n",
        "interface = gr.Interface(\n",
        "    fn=process_query,\n",
        "    inputs=gr.Textbox(label=\"Ask Your Question\", placeholder=\"Enter your question here...\"),\n",
        "    outputs=gr.Textbox(label=\"Answer\"),\n",
        "    title=\"Student Helper Chatbot\",\n",
        "    description=(\n",
        "        \"Ask me any educational question, and I'll help you learn! Features include:\\n\"\n",
        "        \"- Math calculations (e.g., 2+3*4).\\n\"\n",
        "        \"- Wikipedia search (e.g., 'wiki [topic]').\\n\"\n",
        "        \"- Spell checking (e.g., 'check spelling accomodate').\"\n",
        "    )\n",
        ")\n",
        "\n",
        "# Launch the interface\n",
        "interface.launch()\n"
      ],
      "metadata": {
        "colab": {
          "base_uri": "https://localhost:8080/",
          "height": 650
        },
        "id": "k_6CKL-qik8B",
        "outputId": "b563b450-1e56-4da1-e04c-b1f854fbe48e"
      },
      "execution_count": 19,
      "outputs": [
        {
          "output_type": "stream",
          "name": "stdout",
          "text": [
            "Running Gradio in a Colab notebook requires sharing enabled. Automatically setting `share=True` (you can turn this off by setting `share=False` in `launch()` explicitly).\n",
            "\n",
            "Colab notebook detected. To show errors in colab notebook, set debug=True in launch()\n",
            "* Running on public URL: https://a46d3166632b17f57b.gradio.live\n",
            "\n",
            "This share link expires in 72 hours. For free permanent hosting and GPU upgrades, run `gradio deploy` from the terminal in the working directory to deploy to Hugging Face Spaces (https://huggingface.co/spaces)\n"
          ]
        },
        {
          "output_type": "display_data",
          "data": {
            "text/plain": [
              "<IPython.core.display.HTML object>"
            ],
            "text/html": [
              "<div><iframe src=\"https://a46d3166632b17f57b.gradio.live\" width=\"100%\" height=\"500\" allow=\"autoplay; camera; microphone; clipboard-read; clipboard-write;\" frameborder=\"0\" allowfullscreen></iframe></div>"
            ]
          },
          "metadata": {}
        },
        {
          "output_type": "execute_result",
          "data": {
            "text/plain": []
          },
          "metadata": {},
          "execution_count": 19
        }
      ]
    },
    {
      "cell_type": "code",
      "source": [
        "import gradio as gr\n",
        "from spellchecker import SpellChecker\n",
        "import wikipedia\n",
        "import sympy as sp\n",
        "import re\n",
        "\n",
        "# Tools: Spell Checker, Wikipedia Search, Calculator\n",
        "spell = SpellChecker()\n",
        "\n",
        "def check_spelling(text):\n",
        "    \"\"\"Corrects spelling mistakes in the given text.\"\"\"\n",
        "    corrected_words = [spell.correction(word) for word in text.split()]\n",
        "    return \" \".join(corrected_words)\n",
        "\n",
        "def search_wikipedia(query):\n",
        "    \"\"\"Searches Wikipedia and returns the summary.\"\"\"\n",
        "    try:\n",
        "        summary = wikipedia.summary(query, sentences=2)\n",
        "        return summary\n",
        "    except wikipedia.exceptions.DisambiguationError as e:\n",
        "        return f\"Ambiguous query. Did you mean: {', '.join(e.options[:5])}?\"\n",
        "    except wikipedia.exceptions.PageError:\n",
        "        return f\"No page found for '{query}'.\"\n",
        "    except Exception as e:\n",
        "        return f\"Error: {e}\"\n",
        "\n",
        "def calculate_expression(expression):\n",
        "    \"\"\"Evaluates mathematical expressions.\"\"\"\n",
        "    try:\n",
        "        result = sp.sympify(expression)\n",
        "        return str(result)\n",
        "    except Exception as e:\n",
        "        return f\"Error in calculation: {e}\"\n",
        "\n",
        "# Workflow Management: Human-in-the-Loop\n",
        "def chatbot_with_hitl(user_input, human_feedback=None, interrupt=False):\n",
        "    \"\"\"Chatbot logic with human-in-the-loop feedback.\"\"\"\n",
        "    # Determine which tool to use based on input keywords\n",
        "    if \"spell\" in user_input.lower():\n",
        "        tool_output = check_spelling(user_input)\n",
        "        task = \"spell checker\"\n",
        "    elif \"wiki\" in user_input.lower():\n",
        "        query = user_input.replace(\"wiki\", \"\").strip()\n",
        "        tool_output = search_wikipedia(query)\n",
        "        task = \"Wikipedia search\"\n",
        "    elif any(op in user_input for op in \"+-*/\"):\n",
        "        tool_output = calculate_expression(user_input)\n",
        "        task = \"calculator\"\n",
        "    else:\n",
        "        return \"I didn't understand your request. Please specify 'spell', 'wiki', or a math operation.\"\n",
        "\n",
        "    # If interrupt is True, display the intermediate state\n",
        "    if interrupt:\n",
        "        return {\n",
        "            \"task\": task,\n",
        "            \"tool_output\": tool_output,\n",
        "            \"feedback_prompt\": \"Do you want to modify the output or approve it?\",\n",
        "        }\n",
        "\n",
        "    # If human feedback is provided, update the output or proceed\n",
        "    if human_feedback:\n",
        "        tool_output = human_feedback  # Use the human-corrected output\n",
        "\n",
        "    # Final response\n",
        "    return f\"Task: {task}\\nResult: {tool_output}\"\n",
        "\n",
        "# Gradio Interface\n",
        "def gradio_interface(user_input, interrupt=False, human_feedback=\"\"):\n",
        "    \"\"\"Wrapper for the Gradio interface to manage HITL.\"\"\"\n",
        "    result = chatbot_with_hitl(user_input, human_feedback, interrupt)\n",
        "    if isinstance(result, dict):  # When interrupt=True, show intermediate state\n",
        "        return (\n",
        "            f\"Task: {result['task']}\\nTool Output: {result['tool_output']}\",\n",
        "            result[\"feedback_prompt\"],\n",
        "        )\n",
        "    else:  # Final output\n",
        "        return (result, \"No feedback needed.\")\n",
        "\n",
        "# Gradio Layout\n",
        "with gr.Blocks() as interface:\n",
        "    gr.Markdown(\"## Student Chatbot with Human-in-the-Loop\")\n",
        "    with gr.Row():\n",
        "        user_input = gr.Textbox(label=\"Your Input\", placeholder=\"Enter your question...\")\n",
        "        interrupt = gr.Checkbox(label=\"Interrupt for Feedback\", value=False)\n",
        "    tool_output = gr.Textbox(label=\"Tool Output\", interactive=False)\n",
        "    feedback = gr.Textbox(label=\"Your Feedback (if any)\")\n",
        "    submit = gr.Button(\"Submit\")\n",
        "\n",
        "    submit.click(\n",
        "        gradio_interface,\n",
        "        inputs=[user_input, interrupt, feedback],\n",
        "        outputs=[tool_output, feedback],\n",
        "    )\n",
        "\n",
        "# Launch Gradio Interface\n",
        "interface.launch()\n"
      ],
      "metadata": {
        "colab": {
          "base_uri": "https://localhost:8080/",
          "height": 650
        },
        "id": "tuIipApkqA3r",
        "outputId": "b4e5adb6-4469-43c1-e595-962da552f3ac"
      },
      "execution_count": 20,
      "outputs": [
        {
          "output_type": "stream",
          "name": "stdout",
          "text": [
            "Running Gradio in a Colab notebook requires sharing enabled. Automatically setting `share=True` (you can turn this off by setting `share=False` in `launch()` explicitly).\n",
            "\n",
            "Colab notebook detected. To show errors in colab notebook, set debug=True in launch()\n",
            "* Running on public URL: https://a07f23cf4595bd418b.gradio.live\n",
            "\n",
            "This share link expires in 72 hours. For free permanent hosting and GPU upgrades, run `gradio deploy` from the terminal in the working directory to deploy to Hugging Face Spaces (https://huggingface.co/spaces)\n"
          ]
        },
        {
          "output_type": "display_data",
          "data": {
            "text/plain": [
              "<IPython.core.display.HTML object>"
            ],
            "text/html": [
              "<div><iframe src=\"https://a07f23cf4595bd418b.gradio.live\" width=\"100%\" height=\"500\" allow=\"autoplay; camera; microphone; clipboard-read; clipboard-write;\" frameborder=\"0\" allowfullscreen></iframe></div>"
            ]
          },
          "metadata": {}
        },
        {
          "output_type": "execute_result",
          "data": {
            "text/plain": []
          },
          "metadata": {},
          "execution_count": 20
        }
      ]
    },
    {
      "cell_type": "code",
      "source": [
        "import gradio as gr\n",
        "import wikipedia\n",
        "import sympy as sp\n",
        "from spellchecker import SpellChecker\n",
        "from langchain_groq import ChatGroq\n",
        "\n",
        "# Initialize Groq model\n",
        "llm = ChatGroq(model_name=\"llama-3.1-70b-versatile\", temperature=1, api_key=\"your-api-key\")\n",
        "\n",
        "# Initialize tools\n",
        "spell = SpellChecker()\n",
        "\n",
        "# Define tools\n",
        "def check_spelling(text):\n",
        "    corrected_words = [spell.correction(word) for word in text.split()]\n",
        "    return \" \".join(corrected_words)\n",
        "\n",
        "def search_wikipedia(query):\n",
        "    try:\n",
        "        return wikipedia.summary(query, sentences=3)\n",
        "    except Exception as e:\n",
        "        return str(e)\n",
        "\n",
        "def calculate_expression(expression):\n",
        "    try:\n",
        "        result = sp.sympify(expression)\n",
        "        return str(result)\n",
        "    except Exception:\n",
        "        return \"Invalid mathematical expression.\"\n",
        "\n",
        "# Define chatbot logic\n",
        "state = {\"messages\": []}  # State to keep track of interactions\n",
        "\n",
        "def chatbot(input_text, feedback=None):\n",
        "    global state\n",
        "    if feedback:  # If feedback is provided, update state\n",
        "        state[\"messages\"].append({\"role\": \"user\", \"content\": feedback})\n",
        "        state[\"messages\"].append({\"role\": \"system\", \"content\": \"Your feedback has been processed. Let me refine my response.\"})\n",
        "\n",
        "    # Process input based on type\n",
        "    if \"calculate\" in input_text.lower():\n",
        "        expression = input_text.replace(\"calculate\", \"\").strip()\n",
        "        answer = calculate_expression(expression)\n",
        "    elif \"spell\" in input_text.lower():\n",
        "        text = input_text.replace(\"spell\", \"\").strip()\n",
        "        answer = check_spelling(text)\n",
        "    elif \"wiki\" in input_text.lower():\n",
        "        query = input_text.replace(\"wiki\", \"\").strip()\n",
        "        answer = search_wikipedia(query)\n",
        "    else:\n",
        "        # Default to LLM if not a tool-related input\n",
        "        response = llm.invoke(input_text)\n",
        "        answer = response.content.strip()\n",
        "\n",
        "    # Save input and answer to state\n",
        "    state[\"messages\"].append({\"role\": \"user\", \"content\": input_text})\n",
        "    state[\"messages\"].append({\"role\": \"assistant\", \"content\": answer})\n",
        "    return answer\n",
        "\n",
        "# Gradio interface\n",
        "with gr.Blocks() as interface:\n",
        "    gr.Markdown(\"# Student Helper Chatbot with Feedback\")\n",
        "\n",
        "    with gr.Row():\n",
        "        input_text = gr.Textbox(label=\"Your Question\", placeholder=\"Ask me something...\")\n",
        "        feedback_text = gr.Textbox(label=\"Provide Feedback (Optional)\", placeholder=\"Provide corrections or additional context...\")\n",
        "\n",
        "    response_text = gr.Textbox(label=\"Chatbot Response\", interactive=False)\n",
        "\n",
        "    submit_button = gr.Button(\"Submit\")\n",
        "\n",
        "    submit_button.click(chatbot, inputs=[input_text, feedback_text], outputs=[response_text])\n",
        "\n",
        "# Launch the interface\n",
        "interface.launch()\n"
      ],
      "metadata": {
        "colab": {
          "base_uri": "https://localhost:8080/",
          "height": 650
        },
        "id": "lAwc25a1vqYt",
        "outputId": "57aa5d9c-b7c8-4694-fcf1-bbf90520ed1f"
      },
      "execution_count": 21,
      "outputs": [
        {
          "output_type": "stream",
          "name": "stdout",
          "text": [
            "Running Gradio in a Colab notebook requires sharing enabled. Automatically setting `share=True` (you can turn this off by setting `share=False` in `launch()` explicitly).\n",
            "\n",
            "Colab notebook detected. To show errors in colab notebook, set debug=True in launch()\n",
            "* Running on public URL: https://eb0536d2d60222520e.gradio.live\n",
            "\n",
            "This share link expires in 72 hours. For free permanent hosting and GPU upgrades, run `gradio deploy` from the terminal in the working directory to deploy to Hugging Face Spaces (https://huggingface.co/spaces)\n"
          ]
        },
        {
          "output_type": "display_data",
          "data": {
            "text/plain": [
              "<IPython.core.display.HTML object>"
            ],
            "text/html": [
              "<div><iframe src=\"https://eb0536d2d60222520e.gradio.live\" width=\"100%\" height=\"500\" allow=\"autoplay; camera; microphone; clipboard-read; clipboard-write;\" frameborder=\"0\" allowfullscreen></iframe></div>"
            ]
          },
          "metadata": {}
        },
        {
          "output_type": "execute_result",
          "data": {
            "text/plain": []
          },
          "metadata": {},
          "execution_count": 21
        }
      ]
    },
    {
      "cell_type": "code",
      "source": [
        "import gradio as gr\n",
        "import sympy as sp\n",
        "from spellchecker import SpellChecker\n",
        "import wikipedia\n",
        "from langchain_groq import ChatGroq\n",
        "\n",
        "# Initialize tools\n",
        "spell = SpellChecker()\n",
        "llm = ChatGroq(model_name=\"llama-3.1-70b-versatile\", temperature=1, api_key=\"your-api-key\")\n",
        "\n",
        "# State to track inputs and responses\n",
        "state = {\"last_input\": None, \"last_response\": None}\n",
        "\n",
        "# Tool functions\n",
        "def check_spelling(text):\n",
        "    corrected_words = [spell.correction(word) for word in text.split()]\n",
        "    return \" \".join(corrected_words)\n",
        "\n",
        "def search_wikipedia(query):\n",
        "    try:\n",
        "        return wikipedia.summary(query, sentences=3)\n",
        "    except wikipedia.exceptions.DisambiguationError as e:\n",
        "        return f\"Ambiguous query. Did you mean: {', '.join(e.options[:5])}?\"\n",
        "    except wikipedia.exceptions.PageError:\n",
        "        return \"No matching page found.\"\n",
        "    except Exception as e:\n",
        "        return str(e)\n",
        "\n",
        "def calculate_expression(expression):\n",
        "    try:\n",
        "        result = sp.sympify(expression)\n",
        "        return str(result)\n",
        "    except Exception:\n",
        "        return \"Invalid mathematical expression.\"\n",
        "\n",
        "# Chatbot logic\n",
        "def chatbot(input_text, feedback=None):\n",
        "    global state\n",
        "\n",
        "    # Handle feedback\n",
        "    if feedback:\n",
        "        state[\"last_input\"] = feedback  # Replace the last input with feedback\n",
        "        input_text = feedback\n",
        "\n",
        "    # Process input\n",
        "    if \"calculate\" in input_text.lower():\n",
        "        expression = input_text.replace(\"calculate\", \"\").strip()\n",
        "        answer = calculate_expression(expression)\n",
        "    elif \"spell\" in input_text.lower():\n",
        "        text = input_text.replace(\"spell\", \"\").strip()\n",
        "        answer = check_spelling(text)\n",
        "    elif \"wiki\" in input_text.lower():\n",
        "        query = input_text.replace(\"wiki\", \"\").strip()\n",
        "        answer = search_wikipedia(query)\n",
        "    else:\n",
        "        # Default to LLM\n",
        "        response = llm.invoke(input_text)\n",
        "        answer = response.content.strip()\n",
        "\n",
        "    # Save to state\n",
        "    state[\"last_input\"] = input_text\n",
        "    state[\"last_response\"] = answer\n",
        "\n",
        "    return answer\n",
        "\n",
        "# Gradio Interface\n",
        "with gr.Blocks() as interface:\n",
        "    gr.Markdown(\"# Student Helper Chatbot with Feedback Handling\")\n",
        "\n",
        "    with gr.Row():\n",
        "        input_text = gr.Textbox(label=\"Your Question\", placeholder=\"Enter your question here...\")\n",
        "        feedback_text = gr.Textbox(label=\"Feedback (Optional)\", placeholder=\"Provide feedback or corrections...\")\n",
        "\n",
        "    response_text = gr.Textbox(label=\"Chatbot Response\", interactive=False)\n",
        "    submit_button = gr.Button(\"Submit\")\n",
        "\n",
        "    # Define the submit button click behavior\n",
        "    submit_button.click(chatbot, inputs=[input_text, feedback_text], outputs=[response_text])\n",
        "\n",
        "# Launch the interface\n",
        "interface.launch()\n"
      ],
      "metadata": {
        "colab": {
          "base_uri": "https://localhost:8080/",
          "height": 650
        },
        "id": "I9oyyClOzWLg",
        "outputId": "c23ffd7c-1d0b-49ab-dcf5-4ac1c05566bf"
      },
      "execution_count": 23,
      "outputs": [
        {
          "output_type": "stream",
          "name": "stdout",
          "text": [
            "Running Gradio in a Colab notebook requires sharing enabled. Automatically setting `share=True` (you can turn this off by setting `share=False` in `launch()` explicitly).\n",
            "\n",
            "Colab notebook detected. To show errors in colab notebook, set debug=True in launch()\n",
            "* Running on public URL: https://85b36183823cb12a7f.gradio.live\n",
            "\n",
            "This share link expires in 72 hours. For free permanent hosting and GPU upgrades, run `gradio deploy` from the terminal in the working directory to deploy to Hugging Face Spaces (https://huggingface.co/spaces)\n"
          ]
        },
        {
          "output_type": "display_data",
          "data": {
            "text/plain": [
              "<IPython.core.display.HTML object>"
            ],
            "text/html": [
              "<div><iframe src=\"https://85b36183823cb12a7f.gradio.live\" width=\"100%\" height=\"500\" allow=\"autoplay; camera; microphone; clipboard-read; clipboard-write;\" frameborder=\"0\" allowfullscreen></iframe></div>"
            ]
          },
          "metadata": {}
        },
        {
          "output_type": "execute_result",
          "data": {
            "text/plain": []
          },
          "metadata": {},
          "execution_count": 23
        }
      ]
    },
    {
      "cell_type": "code",
      "source": [
        "import gradio as gr\n",
        "from spellchecker import SpellChecker\n",
        "import wikipedia\n",
        "import re\n",
        "import sympy as sp\n",
        "\n",
        "# Initialize tools\n",
        "spell = SpellChecker()\n",
        "\n",
        "def calculate_expression(expression):\n",
        "    try:\n",
        "        math_expression = re.search(r\"[\\d\\.\\+\\-\\*/\\^\\(\\)]+\", expression)\n",
        "        if math_expression:\n",
        "            result = sp.sympify(math_expression.group())\n",
        "            return str(result)\n",
        "        else:\n",
        "            return \"No valid mathematical expression found.\"\n",
        "    except Exception as e:\n",
        "        return f\"Error in calculation: {str(e)}\"\n",
        "\n",
        "def check_spelling(text):\n",
        "    corrected_words = [spell.correction(word) for word in text.split()]\n",
        "    return \" \".join(corrected_words)\n",
        "\n",
        "def search_wikipedia(query):\n",
        "    try:\n",
        "        return wikipedia.summary(query, sentences=3)\n",
        "    except wikipedia.exceptions.DisambiguationError as e:\n",
        "        return f\"Ambiguous query. Options: {', '.join(e.options[:5])}\"\n",
        "    except wikipedia.exceptions.PageError:\n",
        "        return f\"No page found for '{query}'.\"\n",
        "    except Exception as e:\n",
        "        return f\"Error in Wikipedia search: {str(e)}\"\n",
        "\n",
        "# State for tracking feedback\n",
        "last_tool_used = {\"tool\": None, \"input\": None}\n",
        "\n",
        "# Chatbot logic\n",
        "def student_chatbot(student_input, feedback=None):\n",
        "    global last_tool_used\n",
        "\n",
        "    # Handle feedback\n",
        "    if feedback:\n",
        "        if last_tool_used[\"tool\"] == \"calculator\":\n",
        "            # Reprocess the feedback through the calculator tool\n",
        "            return f\"Calculator Feedback Result: {calculate_expression(feedback)}\"\n",
        "        elif last_tool_used[\"tool\"] == \"spell_checker\":\n",
        "            # Reprocess the feedback through the spell checker tool\n",
        "            return f\"Spell Checker Feedback Result: {check_spelling(feedback)}\"\n",
        "        elif last_tool_used[\"tool\"] == \"wikipedia\":\n",
        "            # Reprocess the feedback through the Wikipedia tool\n",
        "            return f\"Wikipedia Feedback Result: {search_wikipedia(feedback)}\"\n",
        "        else:\n",
        "            return \"No previous tool used. Feedback cannot be processed.\"\n",
        "\n",
        "    # Regular processing\n",
        "    try:\n",
        "        if any(char.isdigit() for char in student_input) and any(op in student_input for op in [\"+\", \"-\", \"*\", \"/\", \"^\"]):\n",
        "            last_tool_used[\"tool\"] = \"calculator\"\n",
        "            last_tool_used[\"input\"] = student_input\n",
        "            return f\"Calculator Result: {calculate_expression(student_input)}\"\n",
        "\n",
        "        if \"spell\" in student_input.lower():\n",
        "            query = student_input.replace(\"spell\", \"\").strip()\n",
        "            last_tool_used[\"tool\"] = \"spell_checker\"\n",
        "            last_tool_used[\"input\"] = query\n",
        "            return f\"Corrected Spelling: {check_spelling(query)}\"\n",
        "\n",
        "        if \"wiki\" in student_input.lower():\n",
        "            query = student_input.replace(\"wiki\", \"\").strip()\n",
        "            last_tool_used[\"tool\"] = \"wikipedia\"\n",
        "            last_tool_used[\"input\"] = query\n",
        "            return f\"Wikipedia Result: {search_wikipedia(query)}\"\n",
        "\n",
        "        return \"This chatbot is for educational purposes only.\"\n",
        "    except Exception as e:\n",
        "        return f\"Error: {str(e)}\"\n",
        "\n",
        "# Gradio Interface\n",
        "interface = gr.Interface(\n",
        "    fn=student_chatbot,\n",
        "    inputs=[\n",
        "        gr.Textbox(label=\"Your Question\", placeholder=\"Enter your question here...\"),\n",
        "        gr.Textbox(label=\"Provide Feedback (optional)\", placeholder=\"Enter feedback here...\")\n",
        "    ],\n",
        "    outputs=gr.Textbox(label=\"Response\"),\n",
        "    title=\"Student Helper Chatbot with Feedback\",\n",
        "    description=(\n",
        "        \"Ask educational questions related to:\\n\"\n",
        "        \"- Calculations (e.g., 2 + 2).\\n\"\n",
        "        \"- Spell Checking (e.g., 'spell accomodate').\\n\"\n",
        "        \"- Wikipedia Search (e.g., 'wiki Python programming').\\n\\n\"\n",
        "        \"You can also provide feedback for corrections in the Feedback box.\"\n",
        "    )\n",
        ")\n",
        "\n",
        "interface.launch()\n"
      ],
      "metadata": {
        "colab": {
          "base_uri": "https://localhost:8080/",
          "height": 650
        },
        "id": "4G8_1EZm3UaE",
        "outputId": "0357919d-3b84-485a-fd79-2ae4a571a7e5"
      },
      "execution_count": 24,
      "outputs": [
        {
          "output_type": "stream",
          "name": "stdout",
          "text": [
            "Running Gradio in a Colab notebook requires sharing enabled. Automatically setting `share=True` (you can turn this off by setting `share=False` in `launch()` explicitly).\n",
            "\n",
            "Colab notebook detected. To show errors in colab notebook, set debug=True in launch()\n",
            "* Running on public URL: https://cceeed6c46cb7145fe.gradio.live\n",
            "\n",
            "This share link expires in 72 hours. For free permanent hosting and GPU upgrades, run `gradio deploy` from the terminal in the working directory to deploy to Hugging Face Spaces (https://huggingface.co/spaces)\n"
          ]
        },
        {
          "output_type": "display_data",
          "data": {
            "text/plain": [
              "<IPython.core.display.HTML object>"
            ],
            "text/html": [
              "<div><iframe src=\"https://cceeed6c46cb7145fe.gradio.live\" width=\"100%\" height=\"500\" allow=\"autoplay; camera; microphone; clipboard-read; clipboard-write;\" frameborder=\"0\" allowfullscreen></iframe></div>"
            ]
          },
          "metadata": {}
        },
        {
          "output_type": "execute_result",
          "data": {
            "text/plain": []
          },
          "metadata": {},
          "execution_count": 24
        }
      ]
    },
    {
      "cell_type": "code",
      "source": [
        "import gradio as gr\n",
        "from spellchecker import SpellChecker\n",
        "import wikipedia\n",
        "import re\n",
        "import sympy as sp\n",
        "\n",
        "# Initialize tools\n",
        "spell = SpellChecker()\n",
        "\n",
        "def calculate_expression(expression):\n",
        "    try:\n",
        "        # Match a valid mathematical expression\n",
        "        math_expression = re.search(r\"[\\d\\.\\+\\-\\*/\\^\\(\\)]+\", expression)\n",
        "        if math_expression:\n",
        "            result = sp.sympify(math_expression.group())  # Safely evaluate the expression\n",
        "            return str(result)\n",
        "        else:\n",
        "            return \"No valid mathematical expression found.\"\n",
        "    except Exception as e:\n",
        "        return f\"Error in calculation: {str(e)}\"\n",
        "\n",
        "def check_spelling(text):\n",
        "    corrected_words = [spell.correction(word) for word in text.split()]\n",
        "    return \" \".join(corrected_words)\n",
        "\n",
        "def search_wikipedia(query):\n",
        "    try:\n",
        "        return wikipedia.summary(query, sentences=3)\n",
        "    except wikipedia.exceptions.DisambiguationError as e:\n",
        "        return f\"Ambiguous query. Options: {', '.join(e.options[:5])}\"\n",
        "    except wikipedia.exceptions.PageError:\n",
        "        return f\"No page found for '{query}'.\"\n",
        "    except Exception as e:\n",
        "        return f\"Error in Wikipedia search: {str(e)}\"\n",
        "\n",
        "# State for tracking feedback and previous tool usage\n",
        "last_tool_used = {\"tool\": None, \"input\": None}\n",
        "\n",
        "# Chatbot logic to handle feedback and different tools\n",
        "def student_chatbot(student_input, feedback=None):\n",
        "    global last_tool_used\n",
        "\n",
        "    # Handle feedback, processing based on the tool previously used\n",
        "    if feedback:\n",
        "        if last_tool_used[\"tool\"] == \"calculator\":\n",
        "            # Reprocess the feedback through the calculator tool\n",
        "            return f\"Calculator Feedback Result: {calculate_expression(feedback)}\"\n",
        "        elif last_tool_used[\"tool\"] == \"spell_checker\":\n",
        "            # Reprocess the feedback through the spell checker tool\n",
        "            return f\"Spell Checker Feedback Result: {check_spelling(feedback)}\"\n",
        "        elif last_tool_used[\"tool\"] == \"wikipedia\":\n",
        "            # Reprocess the feedback through the Wikipedia tool\n",
        "            return f\"Wikipedia Feedback Result: {search_wikipedia(feedback)}\"\n",
        "        else:\n",
        "            return \"No previous tool used. Feedback cannot be processed.\"\n",
        "\n",
        "    # Regular processing based on the student's input\n",
        "    try:\n",
        "        # Check if input is a valid calculation\n",
        "        if any(char.isdigit() for char in student_input) and any(op in student_input for op in [\"+\", \"-\", \"*\", \"/\", \"^\"]):\n",
        "            last_tool_used[\"tool\"] = \"calculator\"\n",
        "            last_tool_used[\"input\"] = student_input\n",
        "            return f\"Calculator Result: {calculate_expression(student_input)}\"\n",
        "\n",
        "        # Check if the input is a spell checking request\n",
        "        if \"spell\" in student_input.lower():\n",
        "            query = student_input.replace(\"spell\", \"\").strip()\n",
        "            last_tool_used[\"tool\"] = \"spell_checker\"\n",
        "            last_tool_used[\"input\"] = query\n",
        "            return f\"Corrected Spelling: {check_spelling(query)}\"\n",
        "\n",
        "        # Check if the input is a Wikipedia query\n",
        "        if \"wiki\" in student_input.lower():\n",
        "            query = student_input.replace(\"wiki\", \"\").strip()\n",
        "            last_tool_used[\"tool\"] = \"wikipedia\"\n",
        "            last_tool_used[\"input\"] = query\n",
        "            return f\"Wikipedia Result: {search_wikipedia(query)}\"\n",
        "\n",
        "        return \"This chatbot is for educational purposes only.\"\n",
        "\n",
        "    except Exception as e:\n",
        "        return f\"Error: {str(e)}\"\n",
        "\n",
        "# Gradio Interface with updated feedback handling\n",
        "interface = gr.Interface(\n",
        "    fn=student_chatbot,\n",
        "    inputs=[\n",
        "        gr.Textbox(label=\"Your Question\", placeholder=\"Enter your question here...\"),\n",
        "        gr.Textbox(label=\"Provide Feedback (optional)\", placeholder=\"Enter feedback here...\")\n",
        "    ],\n",
        "    outputs=gr.Textbox(label=\"Response\"),\n",
        "    title=\"Student Helper Chatbot with Feedback\",\n",
        "    description=(\n",
        "        \"Ask educational questions related to:\\n\"\n",
        "        \"- Calculations (e.g., 2 + 2).\\n\"\n",
        "        \"- Spell Checking (e.g., 'spell accomodate').\\n\"\n",
        "        \"- Wikipedia Search (e.g., 'wiki Python programming').\\n\\n\"\n",
        "        \"You can also provide feedback for corrections in the Feedback box.\"\n",
        "    ),\n",
        "    live=True  # Enable live feedback to immediately process changes\n",
        ")\n",
        "\n",
        "# Launch the interface\n",
        "interface.launch()\n"
      ],
      "metadata": {
        "colab": {
          "base_uri": "https://localhost:8080/",
          "height": 650
        },
        "id": "Wx-KOeFi-By8",
        "outputId": "052f2cb9-468e-4703-afe9-9d5013b66683"
      },
      "execution_count": 25,
      "outputs": [
        {
          "output_type": "stream",
          "name": "stdout",
          "text": [
            "Running Gradio in a Colab notebook requires sharing enabled. Automatically setting `share=True` (you can turn this off by setting `share=False` in `launch()` explicitly).\n",
            "\n",
            "Colab notebook detected. To show errors in colab notebook, set debug=True in launch()\n",
            "* Running on public URL: https://a655160216a9976e2a.gradio.live\n",
            "\n",
            "This share link expires in 72 hours. For free permanent hosting and GPU upgrades, run `gradio deploy` from the terminal in the working directory to deploy to Hugging Face Spaces (https://huggingface.co/spaces)\n"
          ]
        },
        {
          "output_type": "display_data",
          "data": {
            "text/plain": [
              "<IPython.core.display.HTML object>"
            ],
            "text/html": [
              "<div><iframe src=\"https://a655160216a9976e2a.gradio.live\" width=\"100%\" height=\"500\" allow=\"autoplay; camera; microphone; clipboard-read; clipboard-write;\" frameborder=\"0\" allowfullscreen></iframe></div>"
            ]
          },
          "metadata": {}
        },
        {
          "output_type": "execute_result",
          "data": {
            "text/plain": []
          },
          "metadata": {},
          "execution_count": 25
        }
      ]
    },
    {
      "cell_type": "code",
      "source": [
        "import gradio as gr\n",
        "from spellchecker import SpellChecker\n",
        "import wikipedia\n",
        "import re\n",
        "import sympy as sp\n",
        "\n",
        "# Initialize tools\n",
        "spell = SpellChecker()\n",
        "\n",
        "def calculate_expression(expression):\n",
        "    try:\n",
        "        # Match a valid mathematical expression\n",
        "        math_expression = re.search(r\"[\\d\\.\\+\\-\\*/\\^\\(\\)]+\", expression)\n",
        "        if math_expression:\n",
        "            result = sp.sympify(math_expression.group())  # Safely evaluate the expression\n",
        "            return str(result)\n",
        "        else:\n",
        "            return \"No valid mathematical expression found.\"\n",
        "    except Exception as e:\n",
        "        return f\"Error in calculation: {str(e)}\"\n",
        "\n",
        "def check_spelling(text):\n",
        "    corrected_words = [spell.correction(word) for word in text.split()]\n",
        "    return \" \".join(corrected_words)\n",
        "\n",
        "def search_wikipedia(query):\n",
        "    try:\n",
        "        return wikipedia.summary(query, sentences=3)\n",
        "    except wikipedia.exceptions.DisambiguationError as e:\n",
        "        return f\"Ambiguous query. Options: {', '.join(e.options[:5])}\"\n",
        "    except wikipedia.exceptions.PageError:\n",
        "        return f\"No page found for '{query}'.\"\n",
        "    except Exception as e:\n",
        "        return f\"Error in Wikipedia search: {str(e)}\"\n",
        "\n",
        "# State for tracking feedback and previous tool usage\n",
        "last_tool_used = {\"tool\": None, \"input\": None}\n",
        "\n",
        "# Chatbot logic to handle feedback and different tools\n",
        "def student_chatbot(student_input, feedback=None):\n",
        "    global last_tool_used\n",
        "\n",
        "    # Handle feedback, processing based on the tool previously used\n",
        "    if feedback:\n",
        "        if last_tool_used[\"tool\"] == \"calculator\":\n",
        "            # Reprocess the feedback through the calculator tool\n",
        "            return f\"Calculator Feedback Result: {calculate_expression(feedback)}\"\n",
        "        elif last_tool_used[\"tool\"] == \"spell_checker\":\n",
        "            # Reprocess the feedback through the spell checker tool\n",
        "            return f\"Spell Checker Feedback Result: {check_spelling(feedback)}\"\n",
        "        elif last_tool_used[\"tool\"] == \"wikipedia\":\n",
        "            # Reprocess the feedback through the Wikipedia tool\n",
        "            return f\"Wikipedia Feedback Result: {search_wikipedia(feedback)}\"\n",
        "        else:\n",
        "            return \"No previous tool used. Feedback cannot be processed.\"\n",
        "\n",
        "    # Regular processing based on the student's input\n",
        "    try:\n",
        "        # Check if input is a valid calculation\n",
        "        if any(char.isdigit() for char in student_input) and any(op in student_input for op in [\"+\", \"-\", \"*\", \"/\", \"^\"]):\n",
        "            last_tool_used[\"tool\"] = \"calculator\"\n",
        "            last_tool_used[\"input\"] = student_input\n",
        "            return f\"Calculator Result: {calculate_expression(student_input)}\"\n",
        "\n",
        "        # Check if the input is a spell checking request\n",
        "        if \"spell\" in student_input.lower():\n",
        "            query = student_input.replace(\"spell\", \"\").strip()\n",
        "            last_tool_used[\"tool\"] = \"spell_checker\"\n",
        "            last_tool_used[\"input\"] = query\n",
        "            return f\"Corrected Spelling: {check_spelling(query)}\"\n",
        "\n",
        "        # Check if the input is a Wikipedia query\n",
        "        if \"wiki\" in student_input.lower():\n",
        "            query = student_input.replace(\"wiki\", \"\").strip()\n",
        "            last_tool_used[\"tool\"] = \"wikipedia\"\n",
        "            last_tool_used[\"input\"] = query\n",
        "            return f\"Wikipedia Result: {search_wikipedia(query)}\"\n",
        "\n",
        "        return \"This chatbot is for educational purposes only.\"\n",
        "\n",
        "    except Exception as e:\n",
        "        return f\"Error: {str(e)}\"\n",
        "\n",
        "# Gradio Interface with updated feedback handling\n",
        "interface = gr.Interface(\n",
        "    fn=student_chatbot,\n",
        "    inputs=[\n",
        "        gr.Textbox(label=\"Your Question\", placeholder=\"Enter your question here...\"),\n",
        "        gr.Textbox(label=\"Provide Feedback (optional)\", placeholder=\"Enter feedback here...\")\n",
        "    ],\n",
        "    outputs=gr.Textbox(label=\"Response\"),\n",
        "    title=\"Student Helper Chatbot with Feedback\",\n",
        "    description=(\n",
        "        \"Ask educational questions related to:\\n\"\n",
        "        \"- Calculations (e.g., 2 + 2).\\n\"\n",
        "        \"- Spell Checking (e.g., 'spell accomodate').\\n\"\n",
        "        \"- Wikipedia Search (e.g., 'wiki Python programming').\\n\\n\"\n",
        "        \"You can also provide feedback for corrections in the Feedback box.\"\n",
        "    ),\n",
        "    live=True  # Enable live feedback to immediately process changes\n",
        ")\n",
        "\n",
        "# Launch the interface\n",
        "interface.launch()\n"
      ],
      "metadata": {
        "colab": {
          "base_uri": "https://localhost:8080/",
          "height": 650
        },
        "id": "5pCzA1eU_BW-",
        "outputId": "e87daed0-e807-48ac-ea29-7295e8f28a9d"
      },
      "execution_count": 27,
      "outputs": [
        {
          "output_type": "stream",
          "name": "stdout",
          "text": [
            "Running Gradio in a Colab notebook requires sharing enabled. Automatically setting `share=True` (you can turn this off by setting `share=False` in `launch()` explicitly).\n",
            "\n",
            "Colab notebook detected. To show errors in colab notebook, set debug=True in launch()\n",
            "* Running on public URL: https://86accd33f97b93ede0.gradio.live\n",
            "\n",
            "This share link expires in 72 hours. For free permanent hosting and GPU upgrades, run `gradio deploy` from the terminal in the working directory to deploy to Hugging Face Spaces (https://huggingface.co/spaces)\n"
          ]
        },
        {
          "output_type": "display_data",
          "data": {
            "text/plain": [
              "<IPython.core.display.HTML object>"
            ],
            "text/html": [
              "<div><iframe src=\"https://86accd33f97b93ede0.gradio.live\" width=\"100%\" height=\"500\" allow=\"autoplay; camera; microphone; clipboard-read; clipboard-write;\" frameborder=\"0\" allowfullscreen></iframe></div>"
            ]
          },
          "metadata": {}
        },
        {
          "output_type": "execute_result",
          "data": {
            "text/plain": []
          },
          "metadata": {},
          "execution_count": 27
        }
      ]
    },
    {
      "cell_type": "code",
      "source": [
        "import gradio as gr\n",
        "from spellchecker import SpellChecker\n",
        "import wikipedia\n",
        "import sympy as sp\n",
        "\n",
        "# Initialize tools\n",
        "spell = SpellChecker()\n",
        "\n",
        "def calculate_expression(expression):\n",
        "    try:\n",
        "        # Parse the math expression directly using sympy\n",
        "        result = sp.sympify(expression)  # sympy handles math expressions directly\n",
        "        return str(result)\n",
        "    except Exception as e:\n",
        "        return f\"Error in calculation: {str(e)}\"\n",
        "\n",
        "def check_spelling(text):\n",
        "    corrected_words = [spell.correction(word) for word in text.split()]\n",
        "    return \" \".join(corrected_words)\n",
        "\n",
        "def search_wikipedia(query):\n",
        "    try:\n",
        "        return wikipedia.summary(query, sentences=3)\n",
        "    except wikipedia.exceptions.DisambiguationError as e:\n",
        "        return f\"Ambiguous query. Options: {', '.join(e.options[:5])}\"\n",
        "    except wikipedia.exceptions.PageError:\n",
        "        return f\"No page found for '{query}'.\"\n",
        "    except Exception as e:\n",
        "        return f\"Error in Wikipedia search: {str(e)}\"\n",
        "\n",
        "# State for tracking feedback and previous tool usage\n",
        "last_tool_used = {\"tool\": None, \"input\": None}\n",
        "\n",
        "# Chatbot logic to handle feedback and different tools\n",
        "def student_chatbot(student_input, feedback=None):\n",
        "    global last_tool_used\n",
        "\n",
        "    # Handle feedback, processing based on the tool previously used\n",
        "    if feedback:\n",
        "        if last_tool_used[\"tool\"] == \"calculator\":\n",
        "            # Reprocess the feedback through the calculator tool\n",
        "            return f\"Calculator Feedback Result: {calculate_expression(feedback)}\"\n",
        "        elif last_tool_used[\"tool\"] == \"spell_checker\":\n",
        "            # Reprocess the feedback through the spell checker tool\n",
        "            return f\"Spell Checker Feedback Result: {check_spelling(feedback)}\"\n",
        "        elif last_tool_used[\"tool\"] == \"wikipedia\":\n",
        "            # Reprocess the feedback through the Wikipedia tool\n",
        "            return f\"Wikipedia Feedback Result: {search_wikipedia(feedback)}\"\n",
        "        else:\n",
        "            return \"No previous tool used. Feedback cannot be processed.\"\n",
        "\n",
        "    # Regular processing based on the student's input\n",
        "    try:\n",
        "        # Check if input is a valid calculation\n",
        "        if any(char.isdigit() for char in student_input) and any(op in student_input for op in [\"+\", \"-\", \"*\", \"/\", \"^\"]):\n",
        "            last_tool_used[\"tool\"] = \"calculator\"\n",
        "            last_tool_used[\"input\"] = student_input\n",
        "            return f\"Calculator Result: {calculate_expression(student_input)}\"\n",
        "\n",
        "        # Check if the input is a spell checking request\n",
        "        if \"spell\" in student_input.lower():\n",
        "            query = student_input.replace(\"spell\", \"\").strip()\n",
        "            last_tool_used[\"tool\"] = \"spell_checker\"\n",
        "            last_tool_used[\"input\"] = query\n",
        "            return f\"Corrected Spelling: {check_spelling(query)}\"\n",
        "\n",
        "        # Check if the input is a Wikipedia query\n",
        "        if \"wiki\" in student_input.lower():\n",
        "            query = student_input.replace(\"wiki\", \"\").strip()\n",
        "            last_tool_used[\"tool\"] = \"wikipedia\"\n",
        "            last_tool_used[\"input\"] = query\n",
        "            return f\"Wikipedia Result: {search_wikipedia(query)}\"\n",
        "\n",
        "        return \"This chatbot is for educational purposes only.\"\n",
        "\n",
        "    except Exception as e:\n",
        "        return f\"Error: {str(e)}\"\n",
        "\n",
        "# Gradio Interface with updated feedback handling\n",
        "interface = gr.Interface(\n",
        "    fn=student_chatbot,\n",
        "    inputs=[\n",
        "        gr.Textbox(label=\"Your Question\", placeholder=\"Enter your question here...\"),\n",
        "        gr.Textbox(label=\"Provide Feedback (optional)\", placeholder=\"Enter feedback here...\")\n",
        "    ],\n",
        "    outputs=gr.Textbox(label=\"Response\"),\n",
        "    title=\"Student Helper Chatbot with Feedback\",\n",
        "    description=(\n",
        "        \"Ask educational questions related to:\\n\"\n",
        "        \"- Calculations (e.g., 2 + 2).\\n\"\n",
        "        \"- Spell Checking (e.g., 'spell accomodate').\\n\"\n",
        "        \"- Wikipedia Search (e.g., 'wiki Python programming').\\n\\n\"\n",
        "        \"You can also provide feedback for corrections in the Feedback box.\"\n",
        "    ),\n",
        "    live=True  # Enable live feedback to immediately process changes\n",
        ")\n",
        "\n",
        "# Launch the interface\n",
        "interface.launch()\n"
      ],
      "metadata": {
        "colab": {
          "base_uri": "https://localhost:8080/",
          "height": 650
        },
        "id": "WCr7Db7JA0Qb",
        "outputId": "8f5e2524-379e-4e1d-e3ff-fa20615771ef"
      },
      "execution_count": 28,
      "outputs": [
        {
          "output_type": "stream",
          "name": "stdout",
          "text": [
            "Running Gradio in a Colab notebook requires sharing enabled. Automatically setting `share=True` (you can turn this off by setting `share=False` in `launch()` explicitly).\n",
            "\n",
            "Colab notebook detected. To show errors in colab notebook, set debug=True in launch()\n",
            "* Running on public URL: https://ad9a37d397964432ec.gradio.live\n",
            "\n",
            "This share link expires in 72 hours. For free permanent hosting and GPU upgrades, run `gradio deploy` from the terminal in the working directory to deploy to Hugging Face Spaces (https://huggingface.co/spaces)\n"
          ]
        },
        {
          "output_type": "display_data",
          "data": {
            "text/plain": [
              "<IPython.core.display.HTML object>"
            ],
            "text/html": [
              "<div><iframe src=\"https://ad9a37d397964432ec.gradio.live\" width=\"100%\" height=\"500\" allow=\"autoplay; camera; microphone; clipboard-read; clipboard-write;\" frameborder=\"0\" allowfullscreen></iframe></div>"
            ]
          },
          "metadata": {}
        },
        {
          "output_type": "execute_result",
          "data": {
            "text/plain": []
          },
          "metadata": {},
          "execution_count": 28
        }
      ]
    },
    {
      "cell_type": "code",
      "source": [
        "import gradio as gr\n",
        "from spellchecker import SpellChecker\n",
        "import wikipedia\n",
        "import sympy as sp\n",
        "\n",
        "# Initialize tools\n",
        "spell = SpellChecker()\n",
        "\n",
        "def calculate_expression(expression):\n",
        "    try:\n",
        "        # Ensure only valid mathematical expressions are parsed\n",
        "        if any(op in expression for op in [\"+\", \"-\", \"*\", \"/\", \"^\"]):\n",
        "            result = sp.sympify(expression)  # sympy handles math expressions directly\n",
        "            return str(result)\n",
        "        else:\n",
        "            return \"No valid mathematical expression found.\"\n",
        "    except Exception as e:\n",
        "        return f\"Error in calculation: {str(e)}\"\n",
        "\n",
        "def check_spelling(text):\n",
        "    corrected_words = [spell.correction(word) for word in text.split()]\n",
        "    return \" \".join(corrected_words)\n",
        "\n",
        "def search_wikipedia(query):\n",
        "    try:\n",
        "        return wikipedia.summary(query, sentences=3)\n",
        "    except wikipedia.exceptions.DisambiguationError as e:\n",
        "        return f\"Ambiguous query. Options: {', '.join(e.options[:5])}\"\n",
        "    except wikipedia.exceptions.PageError:\n",
        "        return f\"No page found for '{query}'.\"\n",
        "    except Exception as e:\n",
        "        return f\"Error in Wikipedia search: {str(e)}\"\n",
        "\n",
        "# State for tracking feedback and previous tool usage\n",
        "last_tool_used = {\"tool\": None, \"input\": None}\n",
        "\n",
        "# Chatbot logic to handle feedback and different tools\n",
        "def student_chatbot(student_input, feedback=None):\n",
        "    global last_tool_used\n",
        "\n",
        "    # Handle feedback, processing based on the tool previously used\n",
        "    if feedback:\n",
        "        if last_tool_used[\"tool\"] == \"calculator\":\n",
        "            # Reprocess the feedback through the calculator tool only if it's a valid math expression\n",
        "            return f\"Calculator Feedback Result: {calculate_expression(feedback)}\"\n",
        "        elif last_tool_used[\"tool\"] == \"spell_checker\":\n",
        "            # Reprocess the feedback through the spell checker tool\n",
        "            return f\"Spell Checker Feedback Result: {check_spelling(feedback)}\"\n",
        "        elif last_tool_used[\"tool\"] == \"wikipedia\":\n",
        "            # Reprocess the feedback through the Wikipedia tool\n",
        "            return f\"Wikipedia Feedback Result: {search_wikipedia(feedback)}\"\n",
        "        else:\n",
        "            return \"No previous tool used. Feedback cannot be processed.\"\n",
        "\n",
        "    # Regular processing based on the student's input\n",
        "    try:\n",
        "        # Check if input is a valid calculation (contains digits and mathematical operators)\n",
        "        if any(char.isdigit() for char in student_input) and any(op in student_input for op in [\"+\", \"-\", \"*\", \"/\", \"^\"]):\n",
        "            last_tool_used[\"tool\"] = \"calculator\"\n",
        "            last_tool_used[\"input\"] = student_input\n",
        "            return f\"Calculator Result: {calculate_expression(student_input)}\"\n",
        "\n",
        "        # Check if the input is a spell checking request\n",
        "        if \"spell\" in student_input.lower():\n",
        "            query = student_input.replace(\"spell\", \"\").strip()\n",
        "            last_tool_used[\"tool\"] = \"spell_checker\"\n",
        "            last_tool_used[\"input\"] = query\n",
        "            return f\"Corrected Spelling: {check_spelling(query)}\"\n",
        "\n",
        "        # Check if the input is a Wikipedia query\n",
        "        if \"wiki\" in student_input.lower():\n",
        "            query = student_input.replace(\"wiki\", \"\").strip()\n",
        "            last_tool_used[\"tool\"] = \"wikipedia\"\n",
        "            last_tool_used[\"input\"] = query\n",
        "            return f\"Wikipedia Result: {search_wikipedia(query)}\"\n",
        "\n",
        "        return \"This chatbot is for educational purposes only.\"\n",
        "\n",
        "    except Exception as e:\n",
        "        return f\"Error: {str(e)}\"\n",
        "\n",
        "# Gradio Interface with updated feedback handling\n",
        "interface = gr.Interface(\n",
        "    fn=student_chatbot,\n",
        "    inputs=[\n",
        "        gr.Textbox(label=\"Your Question\", placeholder=\"Enter your question here...\"),\n",
        "        gr.Textbox(label=\"Provide Feedback (optional)\", placeholder=\"Enter feedback here...\")\n",
        "    ],\n",
        "    outputs=gr.Textbox(label=\"Response\"),\n",
        "    title=\"Student Helper Chatbot with Feedback\",\n",
        "    description=(\n",
        "        \"Ask educational questions related to:\\n\"\n",
        "        \"- Calculations (e.g., 2 + 2).\\n\"\n",
        "        \"- Spell Checking (e.g., 'spell accomodate').\\n\"\n",
        "        \"- Wikipedia Search (e.g., 'wiki Python programming').\\n\\n\"\n",
        "        \"You can also provide feedback for corrections in the Feedback box.\"\n",
        "    ),\n",
        "    live=True  # Enable live feedback to immediately process changes\n",
        ")\n",
        "\n",
        "# Launch the interface\n",
        "interface.launch()\n"
      ],
      "metadata": {
        "colab": {
          "base_uri": "https://localhost:8080/",
          "height": 650
        },
        "id": "rl-N3Vy4CJBi",
        "outputId": "66844d3d-1001-47dd-8530-4be1fca7e09d"
      },
      "execution_count": 29,
      "outputs": [
        {
          "output_type": "stream",
          "name": "stdout",
          "text": [
            "Running Gradio in a Colab notebook requires sharing enabled. Automatically setting `share=True` (you can turn this off by setting `share=False` in `launch()` explicitly).\n",
            "\n",
            "Colab notebook detected. To show errors in colab notebook, set debug=True in launch()\n",
            "* Running on public URL: https://8affaeae7a43b6bfc6.gradio.live\n",
            "\n",
            "This share link expires in 72 hours. For free permanent hosting and GPU upgrades, run `gradio deploy` from the terminal in the working directory to deploy to Hugging Face Spaces (https://huggingface.co/spaces)\n"
          ]
        },
        {
          "output_type": "display_data",
          "data": {
            "text/plain": [
              "<IPython.core.display.HTML object>"
            ],
            "text/html": [
              "<div><iframe src=\"https://8affaeae7a43b6bfc6.gradio.live\" width=\"100%\" height=\"500\" allow=\"autoplay; camera; microphone; clipboard-read; clipboard-write;\" frameborder=\"0\" allowfullscreen></iframe></div>"
            ]
          },
          "metadata": {}
        },
        {
          "output_type": "execute_result",
          "data": {
            "text/plain": []
          },
          "metadata": {},
          "execution_count": 29
        }
      ]
    },
    {
      "cell_type": "code",
      "source": [
        "import gradio as gr\n",
        "from spellchecker import SpellChecker\n",
        "import wikipedia\n",
        "import sympy as sp\n",
        "\n",
        "# Initialize tools\n",
        "spell = SpellChecker()\n",
        "\n",
        "def calculate_expression(expression):\n",
        "    try:\n",
        "        # Ensure only valid mathematical expressions are parsed\n",
        "        if any(op in expression for op in [\"+\", \"-\", \"*\", \"/\", \"^\"]):\n",
        "            result = sp.sympify(expression)  # sympy handles math expressions directly\n",
        "            return str(result)\n",
        "        else:\n",
        "            return \"No valid mathematical expression found.\"\n",
        "    except Exception as e:\n",
        "        return f\"Error in calculation: {str(e)}\"\n",
        "\n",
        "def check_spelling(text):\n",
        "    corrected_words = [spell.correction(word) for word in text.split()]\n",
        "    return \" \".join(corrected_words)\n",
        "\n",
        "def search_wikipedia(query):\n",
        "    try:\n",
        "        return wikipedia.summary(query, sentences=3)\n",
        "    except wikipedia.exceptions.DisambiguationError as e:\n",
        "        return f\"Ambiguous query. Options: {', '.join(e.options[:5])}\"\n",
        "    except wikipedia.exceptions.PageError:\n",
        "        return f\"No page found for '{query}'.\"\n",
        "    except Exception as e:\n",
        "        return f\"Error in Wikipedia search: {str(e)}\"\n",
        "\n",
        "# State for tracking feedback and previous tool usage\n",
        "last_tool_used = {\"tool\": None, \"input\": None}\n",
        "\n",
        "# Chatbot logic to handle feedback and different tools\n",
        "def student_chatbot(student_input, feedback=None):\n",
        "    global last_tool_used\n",
        "\n",
        "    # Handle feedback, processing based on the tool previously used\n",
        "    if feedback:\n",
        "        if last_tool_used[\"tool\"] == \"calculator\":\n",
        "            # Reprocess the feedback through the calculator tool only if it's a valid math expression\n",
        "            return f\"Calculator Feedback Result: {calculate_expression(feedback)}\"\n",
        "        elif last_tool_used[\"tool\"] == \"spell_checker\":\n",
        "            # Reprocess the feedback through the spell checker tool\n",
        "            return f\"Spell Checker Feedback Result: {check_spelling(feedback)}\"\n",
        "        elif last_tool_used[\"tool\"] == \"wikipedia\":\n",
        "            # Reprocess the feedback through the Wikipedia tool\n",
        "            return f\"Wikipedia Feedback Result: {search_wikipedia(feedback)}\"\n",
        "        else:\n",
        "            return \"No previous tool used. Feedback cannot be processed.\"\n",
        "\n",
        "    # Regular processing based on the student's input\n",
        "    try:\n",
        "        # Check if input is a valid calculation (contains digits and mathematical operators)\n",
        "        if any(char.isdigit() for char in student_input) and any(op in student_input for op in [\"+\", \"-\", \"*\", \"/\", \"^\"]):\n",
        "            last_tool_used[\"tool\"] = \"calculator\"\n",
        "            last_tool_used[\"input\"] = student_input\n",
        "            return f\"Calculator Result: {calculate_expression(student_input)}\"\n",
        "\n",
        "        # Check if the input is a spell checking request\n",
        "        if \"spell\" in student_input.lower():\n",
        "            query = student_input.replace(\"spell\", \"\").strip()\n",
        "            last_tool_used[\"tool\"] = \"spell_checker\"\n",
        "            last_tool_used[\"input\"] = query\n",
        "            return f\"Corrected Spelling: {check_spelling(query)}\"\n",
        "\n",
        "        # Check if the input is a Wikipedia query\n",
        "        if \"wiki\" in student_input.lower():\n",
        "            query = student_input.replace(\"wiki\", \"\").strip()\n",
        "            last_tool_used[\"tool\"] = \"wikipedia\"\n",
        "            last_tool_used[\"input\"] = query\n",
        "            return f\"Wikipedia Result: {search_wikipedia(query)}\"\n",
        "\n",
        "        return \"This chatbot is for educational purposes only.\"\n",
        "\n",
        "    except Exception as e:\n",
        "        return f\"Error: {str(e)}\"\n",
        "\n",
        "# Gradio Interface with updated feedback handling\n",
        "interface = gr.Interface(\n",
        "    fn=student_chatbot,\n",
        "    inputs=[\n",
        "        gr.Textbox(label=\"Your Question\", placeholder=\"Enter your question here...\"),\n",
        "        gr.Textbox(label=\"Provide Feedback (optional)\", placeholder=\"Enter feedback here...\")\n",
        "    ],\n",
        "    outputs=gr.Textbox(label=\"Response\"),\n",
        "    title=\"Student Helper Chatbot with Feedback\",\n",
        "    description=(\n",
        "        \"Ask educational questions related to:\\n\"\n",
        "        \"- Calculations (e.g., 2 + 2).\\n\"\n",
        "        \"- Spell Checking (e.g., 'spell accomodate').\\n\"\n",
        "        \"- Wikipedia Search (e.g., 'wiki Python programming').\\n\\n\"\n",
        "        \"You can also provide feedback for corrections in the Feedback box.\"\n",
        "    ),\n",
        "    live=True  # Enable live feedback to immediately process changes\n",
        ")\n",
        "\n",
        "# Launch the interface\n",
        "interface.launch()\n"
      ],
      "metadata": {
        "colab": {
          "base_uri": "https://localhost:8080/",
          "height": 650
        },
        "id": "iS3y-LpUDDgq",
        "outputId": "b56cebaa-a969-4d77-a246-c127ee5ce33b"
      },
      "execution_count": 30,
      "outputs": [
        {
          "output_type": "stream",
          "name": "stdout",
          "text": [
            "Running Gradio in a Colab notebook requires sharing enabled. Automatically setting `share=True` (you can turn this off by setting `share=False` in `launch()` explicitly).\n",
            "\n",
            "Colab notebook detected. To show errors in colab notebook, set debug=True in launch()\n",
            "* Running on public URL: https://59fd44fc39c220c679.gradio.live\n",
            "\n",
            "This share link expires in 72 hours. For free permanent hosting and GPU upgrades, run `gradio deploy` from the terminal in the working directory to deploy to Hugging Face Spaces (https://huggingface.co/spaces)\n"
          ]
        },
        {
          "output_type": "display_data",
          "data": {
            "text/plain": [
              "<IPython.core.display.HTML object>"
            ],
            "text/html": [
              "<div><iframe src=\"https://59fd44fc39c220c679.gradio.live\" width=\"100%\" height=\"500\" allow=\"autoplay; camera; microphone; clipboard-read; clipboard-write;\" frameborder=\"0\" allowfullscreen></iframe></div>"
            ]
          },
          "metadata": {}
        },
        {
          "output_type": "execute_result",
          "data": {
            "text/plain": []
          },
          "metadata": {},
          "execution_count": 30
        }
      ]
    },
    {
      "cell_type": "code",
      "source": [
        "import gradio as gr\n",
        "from spellchecker import SpellChecker\n",
        "import wikipedia\n",
        "import sympy as sp\n",
        "from langgraph.graph import StateGraph, START\n",
        "from langgraph.graph import MessagesState\n",
        "from langchain_core.messages import HumanMessage, SystemMessage\n",
        "\n",
        "# Initialize tools\n",
        "spell = SpellChecker()\n",
        "\n",
        "def calculate_expression(expression):\n",
        "    try:\n",
        "        # Ensure only valid mathematical expressions are parsed\n",
        "        if any(op in expression for op in [\"+\", \"-\", \"*\", \"/\", \"^\"]):\n",
        "            result = sp.sympify(expression)  # sympy handles math expressions directly\n",
        "            return str(result)\n",
        "        else:\n",
        "            return \"No valid mathematical expression found.\"\n",
        "    except Exception as e:\n",
        "        return f\"Error in calculation: {str(e)}\"\n",
        "\n",
        "def check_spelling(text):\n",
        "    corrected_words = [spell.correction(word) for word in text.split()]\n",
        "    return \" \".join(corrected_words)\n",
        "\n",
        "def search_wikipedia(query):\n",
        "    try:\n",
        "        return wikipedia.summary(query, sentences=3)\n",
        "    except wikipedia.exceptions.DisambiguationError as e:\n",
        "        return f\"Ambiguous query. Options: {', '.join(e.options[:5])}\"\n",
        "    except wikipedia.exceptions.PageError:\n",
        "        return f\"No page found for '{query}'.\"\n",
        "    except Exception as e:\n",
        "        return f\"Error in Wikipedia search: {str(e)}\"\n",
        "\n",
        "# State for tracking feedback and previous tool usage\n",
        "last_tool_used = {\"tool\": None, \"input\": None}\n",
        "\n",
        "# Chatbot logic to handle feedback and different tools\n",
        "def student_chatbot(student_input, feedback=None):\n",
        "    global last_tool_used\n",
        "\n",
        "    # Handle feedback, processing based on the tool previously used\n",
        "    if feedback:\n",
        "        print(f\"Received feedback: {feedback}\")  # Debugging print statement\n",
        "        print(f\"Last tool used: {last_tool_used['tool']}\")  # Debugging print statement\n",
        "\n",
        "        if last_tool_used[\"tool\"] == \"calculator\":\n",
        "            # Reprocess the feedback through the calculator tool only if it's a valid math expression\n",
        "            return f\"Calculator Feedback Result: {calculate_expression(feedback)}\"\n",
        "        elif last_tool_used[\"tool\"] == \"spell_checker\":\n",
        "            # Reprocess the feedback through the spell checker tool\n",
        "            return f\"Spell Checker Feedback Result: {check_spelling(feedback)}\"\n",
        "        elif last_tool_used[\"tool\"] == \"wikipedia\":\n",
        "            # Reprocess the feedback through the Wikipedia tool\n",
        "            return f\"Wikipedia Feedback Result: {search_wikipedia(feedback)}\"\n",
        "        else:\n",
        "            return \"No previous tool used. Feedback cannot be processed.\"\n",
        "\n",
        "    # Regular processing based on the student's input\n",
        "    try:\n",
        "        # Check if input is a valid calculation (contains digits and mathematical operators)\n",
        "        if any(char.isdigit() for char in student_input) and any(op in student_input for op in [\"+\", \"-\", \"*\", \"/\", \"^\"]):\n",
        "            last_tool_used[\"tool\"] = \"calculator\"\n",
        "            last_tool_used[\"input\"] = student_input\n",
        "            print(f\"Using calculator for input: {student_input}\")  # Debugging print statement\n",
        "            return f\"Calculator Result: {calculate_expression(student_input)}\"\n",
        "\n",
        "        # Check if the input is a spell checking request\n",
        "        if \"spell\" in student_input.lower():\n",
        "            query = student_input.replace(\"spell\", \"\").strip()\n",
        "            last_tool_used[\"tool\"] = \"spell_checker\"\n",
        "            last_tool_used[\"input\"] = query\n",
        "            print(f\"Using spell checker for input: {query}\")  # Debugging print statement\n",
        "            return f\"Corrected Spelling: {check_spelling(query)}\"\n",
        "\n",
        "        # Check if the input is a Wikipedia query\n",
        "        if \"wiki\" in student_input.lower():\n",
        "            query = student_input.replace(\"wiki\", \"\").strip()\n",
        "            last_tool_used[\"tool\"] = \"wikipedia\"\n",
        "            last_tool_used[\"input\"] = query\n",
        "            print(f\"Using Wikipedia for input: {query}\")  # Debugging print statement\n",
        "            return f\"Wikipedia Result: {search_wikipedia(query)}\"\n",
        "\n",
        "        return \"This chatbot is for educational purposes only.\"\n",
        "\n",
        "    except Exception as e:\n",
        "        return f\"Error: {str(e)}\"\n",
        "\n",
        "# State graph creation\n",
        "builder = StateGraph(MessagesState)\n",
        "\n",
        "# Define nodes\n",
        "builder.add_node(\"calculator\", lambda state: {\"messages\": [calculate_expression(state['messages'][0][\"content\"])]})\n",
        "builder.add_node(\"spell_checker\", lambda state: {\"messages\": [check_spelling(state['messages'][0][\"content\"])]})\n",
        "builder.add_node(\"wikipedia\", lambda state: {\"messages\": [search_wikipedia(state['messages'][0][\"content\"])]})\n",
        "\n",
        "# Define edges\n",
        "builder.add_edge(START, \"calculator\")\n",
        "builder.add_edge(START, \"spell_checker\")\n",
        "builder.add_edge(START, \"wikipedia\")\n",
        "\n",
        "builder.add_edge(\"calculator\", \"spell_checker\")\n",
        "builder.add_edge(\"spell_checker\", \"wikipedia\")\n",
        "builder.add_edge(\"wikipedia\", \"calculator\")\n",
        "\n",
        "# Graph for state transitions\n",
        "graph = builder.compile()\n",
        "\n",
        "# Visualizing the graph\n",
        "from IPython.display import Image, display\n",
        "display(Image(graph.get_graph(xray=True).draw_mermaid_png()))\n",
        "\n",
        "# Gradio Interface with updated feedback handling\n",
        "interface = gr.Interface(\n",
        "    fn=student_chatbot,\n",
        "    inputs=[\n",
        "        gr.Textbox(label=\"Your Question\", placeholder=\"Enter your question here...\"),\n",
        "        gr.Textbox(label=\"Provide Feedback (optional)\", placeholder=\"Enter feedback here...\")\n",
        "    ],\n",
        "    outputs=gr.Textbox(label=\"Response\"),\n",
        "    title=\"Student Helper Chatbot with Feedback\",\n",
        "    description=(\n",
        "        \"Ask educational questions related to:\\n\"\n",
        "        \"- Calculations (e.g., 2 + 2).\\n\"\n",
        "        \"- Spell Checking (e.g., 'spell accomodate').\\n\"\n",
        "        \"- Wikipedia Search (e.g., 'wiki Python programming').\\n\\n\"\n",
        "        \"You can also provide feedback for corrections in the Feedback box.\"\n",
        "    ),\n",
        "    live=True  # Enable live feedback to immediately process changes\n",
        ")\n",
        "\n",
        "# Launch the interface\n",
        "interface.launch()\n"
      ],
      "metadata": {
        "colab": {
          "base_uri": "https://localhost:8080/",
          "height": 998
        },
        "id": "xFamYqEuGmcT",
        "outputId": "7eac1442-dbda-4d37-eac9-6275a91388dd"
      },
      "execution_count": 31,
      "outputs": [
        {
          "output_type": "display_data",
          "data": {
            "image/png": "[encoded data removed]",
            "text/plain": [
              "<IPython.core.display.Image object>"
            ]
          },
          "metadata": {}
        },
        {
          "output_type": "stream",
          "name": "stdout",
          "text": [
            "Running Gradio in a Colab notebook requires sharing enabled. Automatically setting `share=True` (you can turn this off by setting `share=False` in `launch()` explicitly).\n",
            "\n",
            "Colab notebook detected. To show errors in colab notebook, set debug=True in launch()\n",
            "* Running on public URL: https://1d780116205d76878f.gradio.live\n",
            "\n",
            "This share link expires in 72 hours. For free permanent hosting and GPU upgrades, run `gradio deploy` from the terminal in the working directory to deploy to Hugging Face Spaces (https://huggingface.co/spaces)\n"
          ]
        },
        {
          "output_type": "display_data",
          "data": {
            "text/plain": [
              "<IPython.core.display.HTML object>"
            ],
            "text/html": [
              "<div><iframe src=\"https://1d780116205d76878f.gradio.live\" width=\"100%\" height=\"500\" allow=\"autoplay; camera; microphone; clipboard-read; clipboard-write;\" frameborder=\"0\" allowfullscreen></iframe></div>"
            ]
          },
          "metadata": {}
        },
        {
          "output_type": "execute_result",
          "data": {
            "text/plain": []
          },
          "metadata": {},
          "execution_count": 31
        }
      ]
    },
    {
      "cell_type": "code",
      "source": [
        "import gradio as gr\n",
        "from spellchecker import SpellChecker\n",
        "import wikipedia\n",
        "import sympy as sp\n",
        "from langgraph.graph import StateGraph, START\n",
        "from langgraph.graph import MessagesState\n",
        "from langchain_core.messages import HumanMessage, SystemMessage\n",
        "\n",
        "# Initialize tools\n",
        "spell = SpellChecker()\n",
        "\n",
        "def calculate_expression(expression):\n",
        "    try:\n",
        "        # Ensure only valid mathematical expressions are parsed\n",
        "        if any(op in expression for op in [\"+\", \"-\", \"*\", \"/\", \"^\"]):\n",
        "            result = sp.sympify(expression)  # sympy handles math expressions directly\n",
        "            return str(result)\n",
        "        else:\n",
        "            return \"No valid mathematical expression found.\"\n",
        "    except Exception as e:\n",
        "        return f\"Error in calculation: {str(e)}\"\n",
        "\n",
        "def check_spelling(text):\n",
        "    corrected_words = [spell.correction(word) for word in text.split()]\n",
        "    return \" \".join(corrected_words)\n",
        "\n",
        "def search_wikipedia(query):\n",
        "    try:\n",
        "        return wikipedia.summary(query, sentences=3)\n",
        "    except wikipedia.exceptions.DisambiguationError as e:\n",
        "        return f\"Ambiguous query. Options: {', '.join(e.options[:5])}\"\n",
        "    except wikipedia.exceptions.PageError:\n",
        "        return f\"No page found for '{query}'.\"\n",
        "    except Exception as e:\n",
        "        return f\"Error in Wikipedia search: {str(e)}\"\n",
        "\n",
        "# State for tracking feedback and previous tool usage\n",
        "last_tool_used = {\"tool\": None, \"input\": None}\n",
        "\n",
        "# Chatbot logic to handle feedback and different tools\n",
        "def student_chatbot(student_input, feedback=None):\n",
        "    global last_tool_used\n",
        "\n",
        "    # Handle feedback, processing based on the tool previously used\n",
        "    if feedback:\n",
        "        print(f\"Received feedback: {feedback}\")  # Debugging print statement\n",
        "        print(f\"Last tool used: {last_tool_used['tool']}\")  # Debugging print statement\n",
        "\n",
        "        if last_tool_used[\"tool\"] == \"calculator\":\n",
        "            # Reprocess the feedback through the calculator tool only if it's a valid math expression\n",
        "            return f\"Calculator Feedback Result: {calculate_expression(feedback)}\"\n",
        "        elif last_tool_used[\"tool\"] == \"spell_checker\":\n",
        "            # Reprocess the feedback through the spell checker tool\n",
        "            return f\"Spell Checker Feedback Result: {check_spelling(feedback)}\"\n",
        "        elif last_tool_used[\"tool\"] == \"wikipedia\":\n",
        "            # Reprocess the feedback through the Wikipedia tool\n",
        "            return f\"Wikipedia Feedback Result: {search_wikipedia(feedback)}\"\n",
        "        else:\n",
        "            return \"No previous tool used. Feedback cannot be processed.\"\n",
        "\n",
        "    # Regular processing based on the student's input\n",
        "    try:\n",
        "        # Check if input is a valid calculation (contains digits and mathematical operators)\n",
        "        if any(char.isdigit() for char in student_input) and any(op in student_input for op in [\"+\", \"-\", \"*\", \"/\", \"^\"]):\n",
        "            last_tool_used[\"tool\"] = \"calculator\"\n",
        "            last_tool_used[\"input\"] = student_input\n",
        "            print(f\"Using calculator for input: {student_input}\")  # Debugging print statement\n",
        "            return f\"Calculator Result: {calculate_expression(student_input)}\"\n",
        "\n",
        "        # Check if the input is a spell checking request\n",
        "        if \"spell\" in student_input.lower():\n",
        "            query = student_input.replace(\"spell\", \"\").strip()\n",
        "            last_tool_used[\"tool\"] = \"spell_checker\"\n",
        "            last_tool_used[\"input\"] = query\n",
        "            print(f\"Using spell checker for input: {query}\")  # Debugging print statement\n",
        "            return f\"Corrected Spelling: {check_spelling(query)}\"\n",
        "\n",
        "        # Check if the input is a Wikipedia query\n",
        "        if \"wiki\" in student_input.lower():\n",
        "            query = student_input.replace(\"wiki\", \"\").strip()\n",
        "            last_tool_used[\"tool\"] = \"wikipedia\"\n",
        "            last_tool_used[\"input\"] = query\n",
        "            print(f\"Using Wikipedia for input: {query}\")  # Debugging print statement\n",
        "            return f\"Wikipedia Result: {search_wikipedia(query)}\"\n",
        "\n",
        "        return \"This chatbot is for educational purposes only.\"\n",
        "\n",
        "    except Exception as e:\n",
        "        return f\"Error: {str(e)}\"\n",
        "\n",
        "# State graph creation\n",
        "builder = StateGraph(MessagesState)\n",
        "\n",
        "# Define nodes (tools and their feedback)\n",
        "builder.add_node(\"calculator\", lambda state: {\"messages\": [calculate_expression(state['messages'][0][\"content\"])]})\n",
        "builder.add_node(\"spell_checker\", lambda state: {\"messages\": [check_spelling(state['messages'][0][\"content\"])]})\n",
        "builder.add_node(\"wikipedia\", lambda state: {\"messages\": [search_wikipedia(state['messages'][0][\"content\"])]})\n",
        "\n",
        "# Define edges (tool transitions, including feedback processing)\n",
        "builder.add_edge(START, \"calculator\")\n",
        "builder.add_edge(START, \"spell_checker\")\n",
        "builder.add_edge(START, \"wikipedia\")\n",
        "\n",
        "builder.add_edge(\"calculator\", \"spell_checker\")\n",
        "builder.add_edge(\"spell_checker\", \"wikipedia\")\n",
        "builder.add_edge(\"wikipedia\", \"calculator\")\n",
        "\n",
        "# Graph for state transitions\n",
        "graph = builder.compile()\n",
        "\n",
        "# Visualizing the graph\n",
        "from IPython.display import Image, display\n",
        "display(Image(graph.get_graph(xray=True).draw_mermaid_png()))\n",
        "\n",
        "# Gradio Interface with updated feedback handling\n",
        "interface = gr.Interface(\n",
        "    fn=student_chatbot,\n",
        "    inputs=[\n",
        "        gr.Textbox(label=\"Your Question\", placeholder=\"Enter your question here...\"),\n",
        "        gr.Textbox(label=\"Provide Feedback (optional)\", placeholder=\"Enter feedback here...\")\n",
        "    ],\n",
        "    outputs=gr.Textbox(label=\"Response\"),\n",
        "    title=\"Student Helper Chatbot with Feedback\",\n",
        "    description=(\n",
        "        \"Ask educational questions related to:\\n\"\n",
        "        \"- Calculations (e.g., 2 + 2).\\n\"\n",
        "        \"- Spell Checking (e.g., 'spell accomodate').\\n\"\n",
        "        \"- Wikipedia Search (e.g., 'wiki Python programming').\\n\\n\"\n",
        "        \"You can also provide feedback for corrections in the Feedback box.\"\n",
        "    ),\n",
        "    live=True  # Enable live feedback to immediately process changes\n",
        ")\n",
        "\n",
        "# Launch the interface\n",
        "interface.launch()\n"
      ],
      "metadata": {
        "colab": {
          "base_uri": "https://localhost:8080/",
          "height": 998
        },
        "id": "kVU_quk2JfOl",
        "outputId": "2fd40982-ce55-4581-a4e1-5db291328387"
      },
      "execution_count": 33,
      "outputs": [
        {
          "output_type": "display_data",
          "data": {
            "image/png": "[encoded data removed]",
            "text/plain": [
              "<IPython.core.display.Image object>"
            ]
          },
          "metadata": {}
        },
        {
          "output_type": "stream",
          "name": "stdout",
          "text": [
            "Running Gradio in a Colab notebook requires sharing enabled. Automatically setting `share=True` (you can turn this off by setting `share=False` in `launch()` explicitly).\n",
            "\n",
            "Colab notebook detected. To show errors in colab notebook, set debug=True in launch()\n",
            "* Running on public URL: https://978e677075440ca0de.gradio.live\n",
            "\n",
            "This share link expires in 72 hours. For free permanent hosting and GPU upgrades, run `gradio deploy` from the terminal in the working directory to deploy to Hugging Face Spaces (https://huggingface.co/spaces)\n"
          ]
        },
        {
          "output_type": "display_data",
          "data": {
            "text/plain": [
              "<IPython.core.display.HTML object>"
            ],
            "text/html": [
              "<div><iframe src=\"https://978e677075440ca0de.gradio.live\" width=\"100%\" height=\"500\" allow=\"autoplay; camera; microphone; clipboard-read; clipboard-write;\" frameborder=\"0\" allowfullscreen></iframe></div>"
            ]
          },
          "metadata": {}
        },
        {
          "output_type": "execute_result",
          "data": {
            "text/plain": []
          },
          "metadata": {},
          "execution_count": 33
        }
      ]
    },
    {
      "cell_type": "code",
      "source": [
        "import gradio as gr\n",
        "from spellchecker import SpellChecker\n",
        "import wikipedia\n",
        "import sympy as sp\n",
        "from langgraph.graph import StateGraph, START\n",
        "from langgraph.graph import MessagesState\n",
        "from langchain_core.messages import HumanMessage, SystemMessage\n",
        "\n",
        "# Initialize tools\n",
        "spell = SpellChecker()\n",
        "\n",
        "# Define the tools\n",
        "def calculate_expression(expression):\n",
        "    try:\n",
        "        # Ensure only valid mathematical expressions are parsed\n",
        "        if any(op in expression for op in [\"+\", \"-\", \"*\", \"/\", \"^\"]):\n",
        "            result = sp.sympify(expression)  # sympy handles math expressions directly\n",
        "            return str(result)\n",
        "        else:\n",
        "            return \"No valid mathematical expression found.\"\n",
        "    except Exception as e:\n",
        "        return f\"Error in calculation: {str(e)}\"\n",
        "\n",
        "def check_spelling(text):\n",
        "    corrected_words = [spell.correction(word) for word in text.split()]\n",
        "    return \" \".join(corrected_words)\n",
        "\n",
        "def search_wikipedia(query):\n",
        "    try:\n",
        "        return wikipedia.summary(query, sentences=3)\n",
        "    except wikipedia.exceptions.DisambiguationError as e:\n",
        "        return f\"Ambiguous query. Options: {', '.join(e.options[:5])}\"\n",
        "    except wikipedia.exceptions.PageError:\n",
        "        return f\"No page found for '{query}'.\"\n",
        "    except Exception as e:\n",
        "        return f\"Error in Wikipedia search: {str(e)}\"\n",
        "\n",
        "# Define a system message for the assistant\n",
        "sys_msg = SystemMessage(content=\"You are a helpful assistant tasked with performing arithmetic on a set of inputs.\")\n",
        "\n",
        "# Define the feedback node (currently a no-op, can be extended to process feedback)\n",
        "def human_feedback(state: MessagesState):\n",
        "    pass  # Placeholder for handling human feedback\n",
        "\n",
        "# Assistant node that processes input\n",
        "def assistant(state: MessagesState):\n",
        "   return {\"messages\": [llm_with_tools.invoke([sys_msg] + state[\"messages\"])]}\n",
        "\n",
        "# ToolNode to invoke specific tools based on state\n",
        "def tools(state: MessagesState):\n",
        "    message = state[\"messages\"][0][\"content\"]\n",
        "\n",
        "    if any(char.isdigit() for char in message) and any(op in message for op in [\"+\", \"-\", \"*\", \"/\", \"^\"]):\n",
        "        return {\"messages\": [calculate_expression(message)]}\n",
        "    elif \"spell\" in message.lower():\n",
        "        query = message.replace(\"spell\", \"\").strip()\n",
        "        return {\"messages\": [check_spelling(query)]}\n",
        "    elif \"wiki\" in message.lower():\n",
        "        query = message.replace(\"wiki\", \"\").strip()\n",
        "        return {\"messages\": [search_wikipedia(query)]}\n",
        "\n",
        "    return {\"messages\": [\"This chatbot is for educational purposes only.\"]}\n",
        "\n",
        "# Create the state graph builder\n",
        "builder = StateGraph(MessagesState)\n",
        "\n",
        "# Add nodes for the assistant, tools, and feedback\n",
        "builder.add_node(\"assistant\", assistant)\n",
        "builder.add_node(\"tools\", tools)\n",
        "builder.add_node(\"human_feedback\", human_feedback)\n",
        "\n",
        "# Add edges for transitions: start -> feedback -> assistant -> tools -> feedback\n",
        "builder.add_edge(START, \"human_feedback\")\n",
        "builder.add_edge(\"human_feedback\", \"assistant\")\n",
        "builder.add_conditional_edges(\n",
        "    \"assistant\",\n",
        "    # If the latest message is a tool call, route to the tools node\n",
        "    tools_condition,\n",
        ")\n",
        "builder.add_edge(\"tools\", \"human_feedback\")\n",
        "\n",
        "# Memory saver to store the state\n",
        "memory = MemorySaver()\n",
        "graph = builder.compile(interrupt_before=[\"human_feedback\"], checkpointer=memory)\n",
        "\n",
        "# Display the graph as a Mermaid diagram\n",
        "from IPython.display import Image, display\n",
        "display(Image(graph.get_graph().draw_mermaid_png()))\n",
        "\n",
        "# Gradio Interface with updated feedback handling\n",
        "def student_chatbot(student_input, feedback=None):\n",
        "    global last_tool_used\n",
        "\n",
        "    # Handle feedback, processing based on the tool previously used\n",
        "    if feedback:\n",
        "        print(f\"Received feedback: {feedback}\")  # Debugging print statement\n",
        "        print(f\"Last tool used: {last_tool_used['tool']}\")  # Debugging print statement\n",
        "\n",
        "        if last_tool_used[\"tool\"] == \"calculator\":\n",
        "            return f\"Calculator Feedback Result: {calculate_expression(feedback)}\"\n",
        "        elif last_tool_used[\"tool\"] == \"spell_checker\":\n",
        "            return f\"Spell Checker Feedback Result: {check_spelling(feedback)}\"\n",
        "        elif last_tool_used[\"tool\"] == \"wikipedia\":\n",
        "            return f\"Wikipedia Feedback Result: {search_wikipedia(feedback)}\"\n",
        "        else:\n",
        "            return \"No previous tool used. Feedback cannot be processed.\"\n",
        "\n",
        "    # Regular processing based on the student's input\n",
        "    try:\n",
        "        if any(char.isdigit() for char in student_input) and any(op in student_input for op in [\"+\", \"-\", \"*\", \"/\", \"^\"]):\n",
        "            last_tool_used[\"tool\"] = \"calculator\"\n",
        "            return f\"Calculator Result: {calculate_expression(student_input)}\"\n",
        "\n",
        "        if \"spell\" in student_input.lower():\n",
        "            query = student_input.replace(\"spell\", \"\").strip()\n",
        "            last_tool_used[\"tool\"] = \"spell_checker\"\n",
        "            return f\"Corrected Spelling: {check_spelling(query)}\"\n",
        "\n",
        "        if \"wiki\" in student_input.lower():\n",
        "            query = student_input.replace(\"wiki\", \"\").strip()\n",
        "            last_tool_used[\"tool\"] = \"wikipedia\"\n",
        "            return f\"Wikipedia Result: {search_wikipedia(query)}\"\n",
        "\n",
        "        return \"This chatbot is for educational purposes only.\"\n",
        "\n",
        "    except Exception as e:\n",
        "        return f\"Error: {str(e)}\"\n",
        "\n",
        "# Gradio Interface\n",
        "interface = gr.Interface(\n",
        "    fn=student_chatbot,\n",
        "    inputs=[\n",
        "        gr.Textbox(label=\"Your Question\", placeholder=\"Enter your question here...\"),\n",
        "        gr.Textbox(label=\"Provide Feedback (optional)\", placeholder=\"Enter feedback here...\")\n",
        "    ],\n",
        "    outputs=gr.Textbox(label=\"Response\"),\n",
        "    title=\"Student Helper Chatbot with Feedback\",\n",
        "    description=(\n",
        "        \"Ask educational questions related to:\\n\"\n",
        "        \"- Calculations (e.g., 2 + 2).\\n\"\n",
        "        \"- Spell Checking (e.g., 'spell accomodate').\\n\"\n",
        "        \"- Wikipedia Search (e.g., 'wiki Python programming').\\n\\n\"\n",
        "        \"You can also provide feedback for corrections in the Feedback box.\"\n",
        "    ),\n",
        "    live=True\n",
        ")\n",
        "\n",
        "# Launch the Gradio interface\n",
        "interface.launch()\n"
      ],
      "metadata": {
        "id": "-FsRk-ZAM9S7",
        "outputId": "43f436e3-2657-4a94-9e06-f9f2616f50d4",
        "colab": {
          "base_uri": "https://localhost:8080/",
          "height": 1000
        }
      },
      "execution_count": 34,
      "outputs": [
        {
          "output_type": "display_data",
          "data": {
            "image/png": "[encoded data removed]",
            "text/plain": [
              "<IPython.core.display.Image object>"
            ]
          },
          "metadata": {}
        },
        {
          "output_type": "stream",
          "name": "stdout",
          "text": [
            "Running Gradio in a Colab notebook requires sharing enabled. Automatically setting `share=True` (you can turn this off by setting `share=False` in `launch()` explicitly).\n",
            "\n",
            "Colab notebook detected. To show errors in colab notebook, set debug=True in launch()\n",
            "* Running on public URL: https://ebafcad26b52430665.gradio.live\n",
            "\n",
            "This share link expires in 72 hours. For free permanent hosting and GPU upgrades, run `gradio deploy` from the terminal in the working directory to deploy to Hugging Face Spaces (https://huggingface.co/spaces)\n"
          ]
        },
        {
          "output_type": "display_data",
          "data": {
            "text/plain": [
              "<IPython.core.display.HTML object>"
            ],
            "text/html": [
              "<div><iframe src=\"https://ebafcad26b52430665.gradio.live\" width=\"100%\" height=\"500\" allow=\"autoplay; camera; microphone; clipboard-read; clipboard-write;\" frameborder=\"0\" allowfullscreen></iframe></div>"
            ]
          },
          "metadata": {}
        },
        {
          "output_type": "execute_result",
          "data": {
            "text/plain": []
          },
          "metadata": {},
          "execution_count": 34
        }
      ]
    }
  ]
}