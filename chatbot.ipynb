{
  "nbformat": 4,
  "nbformat_minor": 0,
  "metadata": {
    "colab": {
      "provenance": [],
      "include_colab_link": true
    },
    "kernelspec": {
      "name": "python3",
      "display_name": "Python 3"
    },
    "language_info": {
      "name": "python"
    }
  },
  "cells": [
    {
      "cell_type": "markdown",
      "metadata": {
        "id": "view-in-github",
        "colab_type": "text"
      },
      "source": [
        "<a href=\"https://colab.research.google.com/github/code-with-ayesha/chatbots/blob/main/chatbot.ipynb\" target=\"_parent\"><img src=\"https://colab.research.google.com/assets/colab-badge.svg\" alt=\"Open In Colab\"/></a>"
      ]
    },
    {
      "cell_type": "code",
      "execution_count": 1,
      "metadata": {
        "collapsed": true,
        "id": "59wdq6v4rcqv",
        "colab": {
          "base_uri": "https://localhost:8080/"
        },
        "outputId": "7d54b39b-8a81-43dc-bd31-bb114f8635db"
      },
      "outputs": [
        {
          "output_type": "stream",
          "name": "stdout",
          "text": [
            "\u001b[2K   \u001b[90m━━━━━━━━━━━━━━━━━━━━━━━━━━━━━━━━━━━━━━━━\u001b[0m \u001b[32m57.6/57.6 MB\u001b[0m \u001b[31m12.9 MB/s\u001b[0m eta \u001b[36m0:00:00\u001b[0m\n",
            "\u001b[2K   \u001b[90m━━━━━━━━━━━━━━━━━━━━━━━━━━━━━━━━━━━━━━━━\u001b[0m \u001b[32m321.4/321.4 kB\u001b[0m \u001b[31m21.3 MB/s\u001b[0m eta \u001b[36m0:00:00\u001b[0m\n",
            "\u001b[2K   \u001b[90m━━━━━━━━━━━━━━━━━━━━━━━━━━━━━━━━━━━━━━━━\u001b[0m \u001b[32m2.5/2.5 MB\u001b[0m \u001b[31m61.0 MB/s\u001b[0m eta \u001b[36m0:00:00\u001b[0m\n",
            "\u001b[2K   \u001b[90m━━━━━━━━━━━━━━━━━━━━━━━━━━━━━━━━━━━━━━━━\u001b[0m \u001b[32m94.8/94.8 kB\u001b[0m \u001b[31m7.0 MB/s\u001b[0m eta \u001b[36m0:00:00\u001b[0m\n",
            "\u001b[2K   \u001b[90m━━━━━━━━━━━━━━━━━━━━━━━━━━━━━━━━━━━━━━━━\u001b[0m \u001b[32m109.5/109.5 kB\u001b[0m \u001b[31m7.7 MB/s\u001b[0m eta \u001b[36m0:00:00\u001b[0m\n",
            "\u001b[2K   \u001b[90m━━━━━━━━━━━━━━━━━━━━━━━━━━━━━━━━━━━━━━━━\u001b[0m \u001b[32m11.3/11.3 MB\u001b[0m \u001b[31m72.5 MB/s\u001b[0m eta \u001b[36m0:00:00\u001b[0m\n",
            "\u001b[2K   \u001b[90m━━━━━━━━━━━━━━━━━━━━━━━━━━━━━━━━━━━━━━━━\u001b[0m \u001b[32m73.2/73.2 kB\u001b[0m \u001b[31m5.4 MB/s\u001b[0m eta \u001b[36m0:00:00\u001b[0m\n",
            "\u001b[2K   \u001b[90m━━━━━━━━━━━━━━━━━━━━━━━━━━━━━━━━━━━━━━━━\u001b[0m \u001b[32m1.2/1.2 MB\u001b[0m \u001b[31m36.5 MB/s\u001b[0m eta \u001b[36m0:00:00\u001b[0m\n",
            "\u001b[2K   \u001b[90m━━━━━━━━━━━━━━━━━━━━━━━━━━━━━━━━━━━━━━━━\u001b[0m \u001b[32m62.3/62.3 kB\u001b[0m \u001b[31m4.4 MB/s\u001b[0m eta \u001b[36m0:00:00\u001b[0m\n",
            "\u001b[2K   \u001b[90m━━━━━━━━━━━━━━━━━━━━━━━━━━━━━━━━━━━━━━━━\u001b[0m \u001b[32m49.5/49.5 kB\u001b[0m \u001b[31m3.6 MB/s\u001b[0m eta \u001b[36m0:00:00\u001b[0m\n",
            "\u001b[?25h"
          ]
        }
      ],
      "source": [
        "!pip -q install gradio langchain langchain_groq langchain_core langchain_community tavily-python"
      ]
    },
    {
      "cell_type": "code",
      "source": [
        "!pip install langgraph"
      ],
      "metadata": {
        "collapsed": true,
        "colab": {
          "base_uri": "https://localhost:8080/"
        },
        "id": "p42DDVqcEkne",
        "outputId": "86a0495e-b92b-421c-e9c3-3ae3d2798e5a"
      },
      "execution_count": 2,
      "outputs": [
        {
          "output_type": "stream",
          "name": "stdout",
          "text": [
            "Collecting langgraph\n",
            "  Downloading langgraph-0.2.62-py3-none-any.whl.metadata (15 kB)\n",
            "Requirement already satisfied: langchain-core!=0.3.0,!=0.3.1,!=0.3.10,!=0.3.11,!=0.3.12,!=0.3.13,!=0.3.14,!=0.3.15,!=0.3.16,!=0.3.17,!=0.3.18,!=0.3.19,!=0.3.2,!=0.3.20,!=0.3.21,!=0.3.22,!=0.3.3,!=0.3.4,!=0.3.5,!=0.3.6,!=0.3.7,!=0.3.8,!=0.3.9,<0.4.0,>=0.2.43 in /usr/local/lib/python3.10/dist-packages (from langgraph) (0.3.29)\n",
            "Collecting langgraph-checkpoint<3.0.0,>=2.0.4 (from langgraph)\n",
            "  Downloading langgraph_checkpoint-2.0.9-py3-none-any.whl.metadata (4.6 kB)\n",
            "Collecting langgraph-sdk<0.2.0,>=0.1.42 (from langgraph)\n",
            "  Downloading langgraph_sdk-0.1.51-py3-none-any.whl.metadata (1.8 kB)\n",
            "Requirement already satisfied: PyYAML>=5.3 in /usr/local/lib/python3.10/dist-packages (from langchain-core!=0.3.0,!=0.3.1,!=0.3.10,!=0.3.11,!=0.3.12,!=0.3.13,!=0.3.14,!=0.3.15,!=0.3.16,!=0.3.17,!=0.3.18,!=0.3.19,!=0.3.2,!=0.3.20,!=0.3.21,!=0.3.22,!=0.3.3,!=0.3.4,!=0.3.5,!=0.3.6,!=0.3.7,!=0.3.8,!=0.3.9,<0.4.0,>=0.2.43->langgraph) (6.0.2)\n",
            "Requirement already satisfied: jsonpatch<2.0,>=1.33 in /usr/local/lib/python3.10/dist-packages (from langchain-core!=0.3.0,!=0.3.1,!=0.3.10,!=0.3.11,!=0.3.12,!=0.3.13,!=0.3.14,!=0.3.15,!=0.3.16,!=0.3.17,!=0.3.18,!=0.3.19,!=0.3.2,!=0.3.20,!=0.3.21,!=0.3.22,!=0.3.3,!=0.3.4,!=0.3.5,!=0.3.6,!=0.3.7,!=0.3.8,!=0.3.9,<0.4.0,>=0.2.43->langgraph) (1.33)\n",
            "Requirement already satisfied: langsmith<0.3,>=0.1.125 in /usr/local/lib/python3.10/dist-packages (from langchain-core!=0.3.0,!=0.3.1,!=0.3.10,!=0.3.11,!=0.3.12,!=0.3.13,!=0.3.14,!=0.3.15,!=0.3.16,!=0.3.17,!=0.3.18,!=0.3.19,!=0.3.2,!=0.3.20,!=0.3.21,!=0.3.22,!=0.3.3,!=0.3.4,!=0.3.5,!=0.3.6,!=0.3.7,!=0.3.8,!=0.3.9,<0.4.0,>=0.2.43->langgraph) (0.2.10)\n",
            "Requirement already satisfied: packaging<25,>=23.2 in /usr/local/lib/python3.10/dist-packages (from langchain-core!=0.3.0,!=0.3.1,!=0.3.10,!=0.3.11,!=0.3.12,!=0.3.13,!=0.3.14,!=0.3.15,!=0.3.16,!=0.3.17,!=0.3.18,!=0.3.19,!=0.3.2,!=0.3.20,!=0.3.21,!=0.3.22,!=0.3.3,!=0.3.4,!=0.3.5,!=0.3.6,!=0.3.7,!=0.3.8,!=0.3.9,<0.4.0,>=0.2.43->langgraph) (24.2)\n",
            "Requirement already satisfied: pydantic<3.0.0,>=2.5.2 in /usr/local/lib/python3.10/dist-packages (from langchain-core!=0.3.0,!=0.3.1,!=0.3.10,!=0.3.11,!=0.3.12,!=0.3.13,!=0.3.14,!=0.3.15,!=0.3.16,!=0.3.17,!=0.3.18,!=0.3.19,!=0.3.2,!=0.3.20,!=0.3.21,!=0.3.22,!=0.3.3,!=0.3.4,!=0.3.5,!=0.3.6,!=0.3.7,!=0.3.8,!=0.3.9,<0.4.0,>=0.2.43->langgraph) (2.10.4)\n",
            "Requirement already satisfied: tenacity!=8.4.0,<10.0.0,>=8.1.0 in /usr/local/lib/python3.10/dist-packages (from langchain-core!=0.3.0,!=0.3.1,!=0.3.10,!=0.3.11,!=0.3.12,!=0.3.13,!=0.3.14,!=0.3.15,!=0.3.16,!=0.3.17,!=0.3.18,!=0.3.19,!=0.3.2,!=0.3.20,!=0.3.21,!=0.3.22,!=0.3.3,!=0.3.4,!=0.3.5,!=0.3.6,!=0.3.7,!=0.3.8,!=0.3.9,<0.4.0,>=0.2.43->langgraph) (9.0.0)\n",
            "Requirement already satisfied: typing-extensions>=4.7 in /usr/local/lib/python3.10/dist-packages (from langchain-core!=0.3.0,!=0.3.1,!=0.3.10,!=0.3.11,!=0.3.12,!=0.3.13,!=0.3.14,!=0.3.15,!=0.3.16,!=0.3.17,!=0.3.18,!=0.3.19,!=0.3.2,!=0.3.20,!=0.3.21,!=0.3.22,!=0.3.3,!=0.3.4,!=0.3.5,!=0.3.6,!=0.3.7,!=0.3.8,!=0.3.9,<0.4.0,>=0.2.43->langgraph) (4.12.2)\n",
            "Requirement already satisfied: msgpack<2.0.0,>=1.1.0 in /usr/local/lib/python3.10/dist-packages (from langgraph-checkpoint<3.0.0,>=2.0.4->langgraph) (1.1.0)\n",
            "Requirement already satisfied: httpx>=0.25.2 in /usr/local/lib/python3.10/dist-packages (from langgraph-sdk<0.2.0,>=0.1.42->langgraph) (0.28.1)\n",
            "Requirement already satisfied: orjson>=3.10.1 in /usr/local/lib/python3.10/dist-packages (from langgraph-sdk<0.2.0,>=0.1.42->langgraph) (3.10.13)\n",
            "Requirement already satisfied: anyio in /usr/local/lib/python3.10/dist-packages (from httpx>=0.25.2->langgraph-sdk<0.2.0,>=0.1.42->langgraph) (3.7.1)\n",
            "Requirement already satisfied: certifi in /usr/local/lib/python3.10/dist-packages (from httpx>=0.25.2->langgraph-sdk<0.2.0,>=0.1.42->langgraph) (2024.12.14)\n",
            "Requirement already satisfied: httpcore==1.* in /usr/local/lib/python3.10/dist-packages (from httpx>=0.25.2->langgraph-sdk<0.2.0,>=0.1.42->langgraph) (1.0.7)\n",
            "Requirement already satisfied: idna in /usr/local/lib/python3.10/dist-packages (from httpx>=0.25.2->langgraph-sdk<0.2.0,>=0.1.42->langgraph) (3.10)\n",
            "Requirement already satisfied: h11<0.15,>=0.13 in /usr/local/lib/python3.10/dist-packages (from httpcore==1.*->httpx>=0.25.2->langgraph-sdk<0.2.0,>=0.1.42->langgraph) (0.14.0)\n",
            "Requirement already satisfied: jsonpointer>=1.9 in /usr/local/lib/python3.10/dist-packages (from jsonpatch<2.0,>=1.33->langchain-core!=0.3.0,!=0.3.1,!=0.3.10,!=0.3.11,!=0.3.12,!=0.3.13,!=0.3.14,!=0.3.15,!=0.3.16,!=0.3.17,!=0.3.18,!=0.3.19,!=0.3.2,!=0.3.20,!=0.3.21,!=0.3.22,!=0.3.3,!=0.3.4,!=0.3.5,!=0.3.6,!=0.3.7,!=0.3.8,!=0.3.9,<0.4.0,>=0.2.43->langgraph) (3.0.0)\n",
            "Requirement already satisfied: requests<3,>=2 in /usr/local/lib/python3.10/dist-packages (from langsmith<0.3,>=0.1.125->langchain-core!=0.3.0,!=0.3.1,!=0.3.10,!=0.3.11,!=0.3.12,!=0.3.13,!=0.3.14,!=0.3.15,!=0.3.16,!=0.3.17,!=0.3.18,!=0.3.19,!=0.3.2,!=0.3.20,!=0.3.21,!=0.3.22,!=0.3.3,!=0.3.4,!=0.3.5,!=0.3.6,!=0.3.7,!=0.3.8,!=0.3.9,<0.4.0,>=0.2.43->langgraph) (2.32.3)\n",
            "Requirement already satisfied: requests-toolbelt<2.0.0,>=1.0.0 in /usr/local/lib/python3.10/dist-packages (from langsmith<0.3,>=0.1.125->langchain-core!=0.3.0,!=0.3.1,!=0.3.10,!=0.3.11,!=0.3.12,!=0.3.13,!=0.3.14,!=0.3.15,!=0.3.16,!=0.3.17,!=0.3.18,!=0.3.19,!=0.3.2,!=0.3.20,!=0.3.21,!=0.3.22,!=0.3.3,!=0.3.4,!=0.3.5,!=0.3.6,!=0.3.7,!=0.3.8,!=0.3.9,<0.4.0,>=0.2.43->langgraph) (1.0.0)\n",
            "Requirement already satisfied: annotated-types>=0.6.0 in /usr/local/lib/python3.10/dist-packages (from pydantic<3.0.0,>=2.5.2->langchain-core!=0.3.0,!=0.3.1,!=0.3.10,!=0.3.11,!=0.3.12,!=0.3.13,!=0.3.14,!=0.3.15,!=0.3.16,!=0.3.17,!=0.3.18,!=0.3.19,!=0.3.2,!=0.3.20,!=0.3.21,!=0.3.22,!=0.3.3,!=0.3.4,!=0.3.5,!=0.3.6,!=0.3.7,!=0.3.8,!=0.3.9,<0.4.0,>=0.2.43->langgraph) (0.7.0)\n",
            "Requirement already satisfied: pydantic-core==2.27.2 in /usr/local/lib/python3.10/dist-packages (from pydantic<3.0.0,>=2.5.2->langchain-core!=0.3.0,!=0.3.1,!=0.3.10,!=0.3.11,!=0.3.12,!=0.3.13,!=0.3.14,!=0.3.15,!=0.3.16,!=0.3.17,!=0.3.18,!=0.3.19,!=0.3.2,!=0.3.20,!=0.3.21,!=0.3.22,!=0.3.3,!=0.3.4,!=0.3.5,!=0.3.6,!=0.3.7,!=0.3.8,!=0.3.9,<0.4.0,>=0.2.43->langgraph) (2.27.2)\n",
            "Requirement already satisfied: charset-normalizer<4,>=2 in /usr/local/lib/python3.10/dist-packages (from requests<3,>=2->langsmith<0.3,>=0.1.125->langchain-core!=0.3.0,!=0.3.1,!=0.3.10,!=0.3.11,!=0.3.12,!=0.3.13,!=0.3.14,!=0.3.15,!=0.3.16,!=0.3.17,!=0.3.18,!=0.3.19,!=0.3.2,!=0.3.20,!=0.3.21,!=0.3.22,!=0.3.3,!=0.3.4,!=0.3.5,!=0.3.6,!=0.3.7,!=0.3.8,!=0.3.9,<0.4.0,>=0.2.43->langgraph) (3.4.1)\n",
            "Requirement already satisfied: urllib3<3,>=1.21.1 in /usr/local/lib/python3.10/dist-packages (from requests<3,>=2->langsmith<0.3,>=0.1.125->langchain-core!=0.3.0,!=0.3.1,!=0.3.10,!=0.3.11,!=0.3.12,!=0.3.13,!=0.3.14,!=0.3.15,!=0.3.16,!=0.3.17,!=0.3.18,!=0.3.19,!=0.3.2,!=0.3.20,!=0.3.21,!=0.3.22,!=0.3.3,!=0.3.4,!=0.3.5,!=0.3.6,!=0.3.7,!=0.3.8,!=0.3.9,<0.4.0,>=0.2.43->langgraph) (2.3.0)\n",
            "Requirement already satisfied: sniffio>=1.1 in /usr/local/lib/python3.10/dist-packages (from anyio->httpx>=0.25.2->langgraph-sdk<0.2.0,>=0.1.42->langgraph) (1.3.1)\n",
            "Requirement already satisfied: exceptiongroup in /usr/local/lib/python3.10/dist-packages (from anyio->httpx>=0.25.2->langgraph-sdk<0.2.0,>=0.1.42->langgraph) (1.2.2)\n",
            "Downloading langgraph-0.2.62-py3-none-any.whl (138 kB)\n",
            "\u001b[2K   \u001b[90m━━━━━━━━━━━━━━━━━━━━━━━━━━━━━━━━━━━━━━━━\u001b[0m \u001b[32m138.2/138.2 kB\u001b[0m \u001b[31m4.4 MB/s\u001b[0m eta \u001b[36m0:00:00\u001b[0m\n",
            "\u001b[?25hDownloading langgraph_checkpoint-2.0.9-py3-none-any.whl (37 kB)\n",
            "Downloading langgraph_sdk-0.1.51-py3-none-any.whl (44 kB)\n",
            "\u001b[2K   \u001b[90m━━━━━━━━━━━━━━━━━━━━━━━━━━━━━━━━━━━━━━━━\u001b[0m \u001b[32m44.7/44.7 kB\u001b[0m \u001b[31m3.1 MB/s\u001b[0m eta \u001b[36m0:00:00\u001b[0m\n",
            "\u001b[?25hInstalling collected packages: langgraph-sdk, langgraph-checkpoint, langgraph\n",
            "Successfully installed langgraph-0.2.62 langgraph-checkpoint-2.0.9 langgraph-sdk-0.1.51\n"
          ]
        }
      ]
    },
    {
      "cell_type": "code",
      "source": [
        "from google.colab import userdata\n",
        "GROQ_API_KEY = userdata.get('GROQ_API_KEY')"
      ],
      "metadata": {
        "id": "nH4zR0RvZVxk"
      },
      "execution_count": 3,
      "outputs": []
    },
    {
      "cell_type": "code",
      "source": [
        "from google.colab import userdata\n",
        "TAVELI_API_KEY = userdata.get('TAVELI_API_KEY')"
      ],
      "metadata": {
        "id": "HDmTJDBiShbz"
      },
      "execution_count": 4,
      "outputs": []
    },
    {
      "cell_type": "code",
      "source": [
        "from typing import TypedDict\n",
        "\n",
        "class ChatBotState(TypedDict):\n",
        "    step: str\n",
        "    user_input: str\n",
        "    query_type: str  # Example values: \"student_query\" or \"non_student_query\"\n",
        "    response: str\n"
      ],
      "metadata": {
        "id": "qN71B5n5DshF"
      },
      "execution_count": 5,
      "outputs": []
    },
    {
      "cell_type": "code",
      "source": [
        "def receive_query(state: ChatBotState) -> ChatBotState:\n",
        "    # Simulates user input captured through Gradio\n",
        "    state[\"step\"] = \"check_query_type\"\n",
        "    return state\n",
        "\n",
        "def check_query_type(state: ChatBotState) -> ChatBotState:\n",
        "    if is_student_query(state[\"user_input\"]):\n",
        "        state[\"query_type\"] = \"student_query\"\n",
        "        state[\"step\"] = \"handle_student_query\"\n",
        "    else:\n",
        "        state[\"query_type\"] = \"non_student_query\"\n",
        "        state[\"step\"] = \"handle_non_student_query\"\n",
        "    return state\n",
        "\n",
        "def handle_student_query(state: ChatBotState) -> ChatBotState:\n",
        "    try:\n",
        "        prompt = f\"You are a helpful assistant for students. Answer this question:\\n{state['user_input']}\"\n",
        "        response = llm.invoke(prompt)\n",
        "        state[\"response\"] = response.content.strip()\n",
        "        state[\"step\"] = \"end\"\n",
        "    except Exception as e:\n",
        "        state[\"response\"] = f\"An error occurred: {str(e)}\"\n",
        "        state[\"step\"] = \"error_handling\"\n",
        "    return state\n",
        "\n",
        "def handle_non_student_query(state: ChatBotState) -> ChatBotState:\n",
        "    state[\"response\"] = (\n",
        "        \"This chatbot is only for educational questions. Please ask something related to your studies or school.\"\n",
        "    )\n",
        "    state[\"step\"] = \"end\"\n",
        "    return state\n",
        "\n",
        "def error_handling(state: ChatBotState) -> ChatBotState:\n",
        "    # Handle any errors that occur during processing\n",
        "    state[\"response\"] = \"An unexpected error occurred. Please try again.\"\n",
        "    state[\"step\"] = \"end\"\n",
        "    return state\n"
      ],
      "metadata": {
        "id": "qSQaSVgiDzgt"
      },
      "execution_count": 6,
      "outputs": []
    },
    {
      "cell_type": "code",
      "source": [
        "from langgraph.graph import StateGraph, START, END\n",
        "from IPython.display import Image, display\n",
        "\n",
        "# Initialize the graph builder with the state schema\n",
        "builder = StateGraph(state_schema=ChatBotState)\n",
        "\n",
        "# Add nodes\n",
        "builder.add_node(\"receive_query\", receive_query)\n",
        "builder.add_node(\"check_query_type\", check_query_type)\n",
        "builder.add_node(\"handle_student_query\", handle_student_query)\n",
        "builder.add_node(\"handle_non_student_query\", handle_non_student_query)\n",
        "builder.add_node(\"error_handling\", error_handling)\n",
        "\n",
        "# Define edges\n",
        "builder.add_edge(START, \"receive_query\")\n",
        "builder.add_edge(\"receive_query\", \"check_query_type\")\n",
        "builder.add_conditional_edges(\n",
        "    \"check_query_type\", lambda state: state[\"step\"]  # Transition to appropriate node\n",
        ")\n",
        "builder.add_edge(\"handle_student_query\", END)\n",
        "builder.add_edge(\"handle_non_student_query\", END)\n",
        "builder.add_edge(\"error_handling\", END)\n",
        "\n",
        "# Compile the graph\n",
        "chatbot_graph = builder.compile()\n",
        "\n",
        "# Visualize the graph\n",
        "display(Image(chatbot_graph.get_graph().draw_mermaid_png()))\n"
      ],
      "metadata": {
        "colab": {
          "base_uri": "https://localhost:8080/",
          "height": 449
        },
        "id": "lJjM083iEGQX",
        "outputId": "3b539930-283a-47de-9848-b67ea53a5c8b"
      },
      "execution_count": 7,
      "outputs": [
        {
          "output_type": "display_data",
          "data": {
            "image/png": "[encoded data removed]",
            "text/plain": [
              "<IPython.core.display.Image object>"
            ]
          },
          "metadata": {}
        }
      ]
    },
    {
      "cell_type": "code",
      "source": [
        "def chatbot_interface(user_input):\n",
        "    # Initialize state\n",
        "    state = ChatBotState(step=\"\", user_input=user_input, query_type=\"\", response=\"\")\n",
        "\n",
        "    # Start the workflow\n",
        "    current_node = chatbot_graph.get_node(START)\n",
        "    while current_node.id != END:\n",
        "        state = current_node.function(state)\n",
        "        current_node = chatbot_graph.get_node(state[\"step\"])\n",
        "\n",
        "    # Return the final response\n",
        "    return state[\"response\"]\n"
      ],
      "metadata": {
        "id": "KOvU5e3cFYxS"
      },
      "execution_count": 8,
      "outputs": []
    },
    {
      "cell_type": "code",
      "source": [
        "import gradio as gr\n",
        "from langchain_groq import ChatGroq\n",
        "from google.colab import userdata\n",
        "\n",
        "\n",
        "# Fetch your API key from userdata\n",
        "groq_api_key = userdata.get('GROQ_API_KEY')\n",
        "\n",
        "# Initialize the Groq model (e.g., \"llama-3.1-70b-versatile\")\n",
        "llm = ChatGroq(model_name=\"llama-3.1-70b-versatile\", temperature=1, api_key=groq_api_key)\n",
        "\n",
        "# Function to check if the query is student-related\n",
        "def is_student_query(query):\n",
        "    # List of keywords related to student topics (you can extend this)\n",
        "    student_keywords = [\"homework\", \"study\", \"math\", \"science\", \"history\", \"assignment\", \"school\", \"exam\",\"spelling\",\"wiki\"]\n",
        "    return any(keyword.lower() in query.lower() for keyword in student_keywords)\n",
        "\n",
        "# Function to handle student queries using Groq\n",
        "def student_chatbot(student_input):\n",
        "    try:\n",
        "        # Check if the query is relevant to students\n",
        "        if not is_student_query(student_input):\n",
        "            return \"This chatbot is only for educational questions. Please ask something related to your studies or school.\"\n",
        "\n",
        "        # Modify the prompt to be more educational and relevant to the query\n",
        "        prompt = f\"You are a helpful assistant for students. Answer the following question in a way that helps a student understand the topic better:\\n{student_input}\"\n",
        "\n",
        "        # Send the student's question to Groq's API and get a response\n",
        "        response = llm.invoke(prompt)\n",
        "\n",
        "        # Access the content directly from the response\n",
        "        content = response.content  # Accessing content directly\n",
        "        return content.strip()  # Return the content text\n",
        "\n",
        "    except Exception as e:\n",
        "        return f\"An error occurred: {str(e)}\"\n",
        "\n",
        "# Gradio Interface\n",
        "interface = gr.Interface(\n",
        "    fn=student_chatbot,  # This is the function to call when input is provided\n",
        "    inputs=gr.Textbox(label=\"Ask Your Question\", placeholder=\"Enter your question here...\"),\n",
        "    outputs=gr.Textbox(label=\"Answer\"),\n",
        "    title=\"Student Helper Chatbot\",  # Title of the Gradio app\n",
        "    description=\"Ask me any educational question, and I'll help you learn!\"  # Student-focused description\n",
        ")\n",
        "\n",
        "# Launch the app\n",
        "interface.launch()\n"
      ],
      "metadata": {
        "colab": {
          "base_uri": "https://localhost:8080/",
          "height": 650
        },
        "id": "IMorCYEOuxxQ",
        "outputId": "e0e836ae-a65c-4406-b143-c01039542c23"
      },
      "execution_count": 9,
      "outputs": [
        {
          "output_type": "stream",
          "name": "stdout",
          "text": [
            "Running Gradio in a Colab notebook requires sharing enabled. Automatically setting `share=True` (you can turn this off by setting `share=False` in `launch()` explicitly).\n",
            "\n",
            "Colab notebook detected. To show errors in colab notebook, set debug=True in launch()\n",
            "* Running on public URL: https://9c18ae2b41faa48d36.gradio.live\n",
            "\n",
            "This share link expires in 72 hours. For free permanent hosting and GPU upgrades, run `gradio deploy` from the terminal in the working directory to deploy to Hugging Face Spaces (https://huggingface.co/spaces)\n"
          ]
        },
        {
          "output_type": "display_data",
          "data": {
            "text/plain": [
              "<IPython.core.display.HTML object>"
            ],
            "text/html": [
              "<div><iframe src=\"https://9c18ae2b41faa48d36.gradio.live\" width=\"100%\" height=\"500\" allow=\"autoplay; camera; microphone; clipboard-read; clipboard-write;\" frameborder=\"0\" allowfullscreen></iframe></div>"
            ]
          },
          "metadata": {}
        },
        {
          "output_type": "execute_result",
          "data": {
            "text/plain": []
          },
          "metadata": {},
          "execution_count": 9
        }
      ]
    },
    {
      "cell_type": "markdown",
      "source": [
        "workflow after binding the tools\n"
      ],
      "metadata": {
        "id": "plAXcIqeHxW6"
      }
    },
    {
      "cell_type": "code",
      "source": [
        "from typing import TypedDict\n",
        "\n",
        "class ChatBotState(TypedDict):\n",
        "    user_input: str\n",
        "    task: str  # The tool/task being used (e.g., \"calculator\", \"wiki\", etc.)\n",
        "    response: str  # The chatbot's response\n"
      ],
      "metadata": {
        "id": "ekWZRW1OHv1j"
      },
      "execution_count": 10,
      "outputs": []
    },
    {
      "cell_type": "code",
      "source": [
        "def receive_query(state: ChatBotState) -> ChatBotState:\n",
        "    # This is the starting node where the chatbot receives the query\n",
        "    state[\"task\"] = \"determine_task\"\n",
        "    return state\n",
        "\n",
        "def determine_task(state: ChatBotState) -> ChatBotState:\n",
        "    query = state[\"user_input\"].lower()\n",
        "    if any(char.isdigit() for char in query) and any(op in query for op in [\"+\", \"-\", \"*\", \"/\", \"^\"]):\n",
        "        state[\"task\"] = \"calculator\"\n",
        "    elif \"wiki\" in query or \"information about\" in query:\n",
        "        state[\"task\"] = \"wikipedia\"\n",
        "    elif \"check spelling\" in query:\n",
        "        state[\"task\"] = \"spell_checker\"\n",
        "    elif \"search taveli\" in query:\n",
        "        state[\"task\"] = \"taveli_search\"\n",
        "    else:\n",
        "        state[\"task\"] = \"groq\"\n",
        "    return state\n",
        "\n",
        "def calculator_task(state: ChatBotState) -> ChatBotState:\n",
        "    state[\"response\"] = f\"Calculator Result: {calculate_expression(state['user_input'])}\"\n",
        "    return state\n",
        "\n",
        "def wikipedia_task(state: ChatBotState) -> ChatBotState:\n",
        "    query = state[\"user_input\"].replace(\"wiki\", \"\").replace(\"information about\", \"\").strip()\n",
        "    state[\"response\"] = f\"Wikipedia Result: {search_wikipedia(query)}\"\n",
        "    return state\n",
        "\n",
        "def spell_checker_task(state: ChatBotState) -> ChatBotState:\n",
        "    query = state[\"user_input\"].replace(\"check spelling\", \"\").strip()\n",
        "    state[\"response\"] = f\"Corrected Spelling: {check_spelling(query)}\"\n",
        "    return state\n",
        "\n",
        "\n",
        "def groq_task(state: ChatBotState) -> ChatBotState:\n",
        "    prompt = f\"You are a helpful assistant for students. Answer this question:\\n{state['user_input']}\"\n",
        "    response = llm.invoke(prompt)\n",
        "    state[\"response\"] = response.content.strip()\n",
        "    return state\n",
        "\n",
        "def error_task(state: ChatBotState) -> ChatBotState:\n",
        "    state[\"response\"] = \"An error occurred. Please try again.\"\n",
        "    return state\n"
      ],
      "metadata": {
        "id": "zQhd-OtSIHjM"
      },
      "execution_count": 11,
      "outputs": []
    },
    {
      "cell_type": "code",
      "source": [
        "from langgraph.graph import StateGraph, START, END\n",
        "from IPython.display import Image, display\n",
        "\n",
        "# Initialize the graph builder with the state schema\n",
        "builder = StateGraph(state_schema=ChatBotState)\n",
        "\n",
        "# Add nodes\n",
        "builder.add_node(\"receive_query\", receive_query)\n",
        "builder.add_node(\"determine_task\", determine_task)\n",
        "builder.add_node(\"calculator\", calculator_task)\n",
        "builder.add_node(\"wikipedia\", wikipedia_task)\n",
        "builder.add_node(\"spell_checker\", spell_checker_task)\n",
        "builder.add_node(\"groq\", groq_task)\n",
        "builder.add_node(\"error\", error_task)\n",
        "\n",
        "# Define edges\n",
        "builder.add_edge(START, \"receive_query\")\n",
        "builder.add_edge(\"receive_query\", \"determine_task\")\n",
        "builder.add_conditional_edges(\n",
        "    \"determine_task\",\n",
        "    lambda state: state[\"task\"],  # Route based on the task identified\n",
        ")\n",
        "builder.add_edge(\"calculator\", END)\n",
        "builder.add_edge(\"wikipedia\", END)\n",
        "builder.add_edge(\"spell_checker\", END)\n",
        "builder.add_edge(\"groq\", END)\n",
        "builder.add_edge(\"error\", END)\n",
        "\n",
        "# Compile the graph\n",
        "chatbot_graph = builder.compile()\n",
        "\n",
        "# Visualize the graph\n",
        "display(Image(chatbot_graph.get_graph().draw_mermaid_png()))\n"
      ],
      "metadata": {
        "colab": {
          "base_uri": "https://localhost:8080/",
          "height": 449
        },
        "id": "yZWubYLYIRNC",
        "outputId": "099b71b7-ef2a-4ae4-cb13-d8b2cf8ddf29"
      },
      "execution_count": 12,
      "outputs": [
        {
          "output_type": "display_data",
          "data": {
            "image/png": "[encoded data removed]",
            "text/plain": [
              "<IPython.core.display.Image object>"
            ]
          },
          "metadata": {}
        }
      ]
    },
    {
      "cell_type": "code",
      "source": [
        "!pip -q install wikipedia"
      ],
      "metadata": {
        "id": "gmET5h8xvicV",
        "colab": {
          "base_uri": "https://localhost:8080/"
        },
        "outputId": "4ac466d8-52e9-4eea-e64e-c94e9a2c49c9"
      },
      "execution_count": 13,
      "outputs": [
        {
          "output_type": "stream",
          "name": "stdout",
          "text": [
            "  Preparing metadata (setup.py) ... \u001b[?25l\u001b[?25hdone\n",
            "  Building wheel for wikipedia (setup.py) ... \u001b[?25l\u001b[?25hdone\n"
          ]
        }
      ]
    },
    {
      "cell_type": "code",
      "source": [
        "!pip -q install wikipedia-api\n"
      ],
      "metadata": {
        "id": "7TKz6Y1nUlbP",
        "colab": {
          "base_uri": "https://localhost:8080/"
        },
        "outputId": "402ca512-57b5-4274-a02a-3b5decac3a84"
      },
      "execution_count": 14,
      "outputs": [
        {
          "output_type": "stream",
          "name": "stdout",
          "text": [
            "  Preparing metadata (setup.py) ... \u001b[?25l\u001b[?25hdone\n",
            "  Building wheel for wikipedia-api (setup.py) ... \u001b[?25l\u001b[?25hdone\n"
          ]
        }
      ]
    },
    {
      "cell_type": "code",
      "source": [
        "!pip install pyspellchecker"
      ],
      "metadata": {
        "colab": {
          "base_uri": "https://localhost:8080/"
        },
        "id": "vP08aZXgweIB",
        "outputId": "5cb5d366-4624-4f99-deb2-fc3992ce5104"
      },
      "execution_count": 15,
      "outputs": [
        {
          "output_type": "stream",
          "name": "stdout",
          "text": [
            "Collecting pyspellchecker\n",
            "  Downloading pyspellchecker-0.8.2-py3-none-any.whl.metadata (9.4 kB)\n",
            "Downloading pyspellchecker-0.8.2-py3-none-any.whl (7.1 MB)\n",
            "\u001b[2K   \u001b[90m━━━━━━━━━━━━━━━━━━━━━━━━━━━━━━━━━━━━━━━━\u001b[0m \u001b[32m7.1/7.1 MB\u001b[0m \u001b[31m38.6 MB/s\u001b[0m eta \u001b[36m0:00:00\u001b[0m\n",
            "\u001b[?25hInstalling collected packages: pyspellchecker\n",
            "Successfully installed pyspellchecker-0.8.2\n"
          ]
        }
      ]
    },
    {
      "cell_type": "code",
      "source": [
        "# Instead of:\n",
        "# from langgraph_sdk import StateGraph\n",
        "\n",
        "# Use:\n",
        "from langgraph.graph import StateGraph # Import StateGraph from langgraph.graph"
      ],
      "metadata": {
        "id": "vlbQ_gOi0RW0"
      },
      "execution_count": 17,
      "outputs": []
    },
    {
      "cell_type": "code",
      "source": [
        "import gradio as gr\n",
        "from spellchecker import SpellChecker\n",
        "import wikipedia\n",
        "import sympy as sp\n",
        "from langgraph.graph import StateGraph, START\n",
        "from langgraph.graph import MessagesState\n",
        "from langchain_core.messages import HumanMessage, SystemMessage\n",
        "\n",
        "# Initialize tools\n",
        "spell = SpellChecker()\n",
        "\n",
        "def calculate_expression(expression):\n",
        "    try:\n",
        "        # Ensure only valid mathematical expressions are parsed\n",
        "        if any(op in expression for op in [\"+\", \"-\", \"*\", \"/\", \"^\"]):\n",
        "            result = sp.sympify(expression)  # sympy handles math expressions directly\n",
        "            return str(result)\n",
        "        else:\n",
        "            return \"No valid mathematical expression found.\"\n",
        "    except Exception as e:\n",
        "        return f\"Error in calculation: {str(e)}\"\n",
        "\n",
        "def check_spelling(text):\n",
        "    corrected_words = [spell.correction(word) for word in text.split()]\n",
        "    return \" \".join(corrected_words)\n",
        "\n",
        "def search_wikipedia(query):\n",
        "    try:\n",
        "        return wikipedia.summary(query, sentences=3)\n",
        "    except wikipedia.exceptions.DisambiguationError as e:\n",
        "        return f\"Ambiguous query. Options: {', '.join(e.options[:5])}\"\n",
        "    except wikipedia.exceptions.PageError:\n",
        "        return f\"No page found for '{query}'.\"\n",
        "    except Exception as e:\n",
        "        return f\"Error in Wikipedia search: {str(e)}\"\n",
        "\n",
        "# State for tracking feedback and previous tool usage\n",
        "last_tool_used = {\"tool\": None, \"input\": None}\n",
        "\n",
        "# Chatbot logic to handle feedback and different tools\n",
        "def student_chatbot(student_input, feedback=None):\n",
        "    global last_tool_used\n",
        "\n",
        "    # Handle feedback, processing based on the tool previously used\n",
        "    if feedback:\n",
        "        print(f\"Received feedback: {feedback}\")  # Debugging print statement\n",
        "        print(f\"Last tool used: {last_tool_used['tool']}\")  # Debugging print statement\n",
        "\n",
        "        if last_tool_used[\"tool\"] == \"calculator\":\n",
        "            # Reprocess the feedback through the calculator tool only if it's a valid math expression\n",
        "            return f\"Calculator Feedback Result: {calculate_expression(feedback)}\"\n",
        "        elif last_tool_used[\"tool\"] == \"spell_checker\":\n",
        "            # Reprocess the feedback through the spell checker tool\n",
        "            return f\"Spell Checker Feedback Result: {check_spelling(feedback)}\"\n",
        "        elif last_tool_used[\"tool\"] == \"wikipedia\":\n",
        "            # Reprocess the feedback through the Wikipedia tool\n",
        "            return f\"Wikipedia Feedback Result: {search_wikipedia(feedback)}\"\n",
        "        else:\n",
        "            return \"No previous tool used. Feedback cannot be processed.\"\n",
        "\n",
        "    # Regular processing based on the student's input\n",
        "    try:\n",
        "        # Check if input is a valid calculation (contains digits and mathematical operators)\n",
        "        if any(char.isdigit() for char in student_input) and any(op in student_input for op in [\"+\", \"-\", \"*\", \"/\", \"^\"]):\n",
        "            last_tool_used[\"tool\"] = \"calculator\"\n",
        "            last_tool_used[\"input\"] = student_input\n",
        "            print(f\"Using calculator for input: {student_input}\")  # Debugging print statement\n",
        "            return f\"Calculator Result: {calculate_expression(student_input)}\"\n",
        "\n",
        "        # Check if the input is a spell checking request\n",
        "        if \"spell\" in student_input.lower():\n",
        "            query = student_input.replace(\"spell\", \"\").strip()\n",
        "            last_tool_used[\"tool\"] = \"spell_checker\"\n",
        "            last_tool_used[\"input\"] = query\n",
        "            print(f\"Using spell checker for input: {query}\")  # Debugging print statement\n",
        "            return f\"Corrected Spelling: {check_spelling(query)}\"\n",
        "\n",
        "        # Check if the input is a Wikipedia query\n",
        "        if \"wiki\" in student_input.lower():\n",
        "            query = student_input.replace(\"wiki\", \"\").strip()\n",
        "            last_tool_used[\"tool\"] = \"wikipedia\"\n",
        "            last_tool_used[\"input\"] = query\n",
        "            print(f\"Using Wikipedia for input: {query}\")  # Debugging print statement\n",
        "            return f\"Wikipedia Result: {search_wikipedia(query)}\"\n",
        "\n",
        "        return \"This chatbot is for educational purposes only.\"\n",
        "\n",
        "    except Exception as e:\n",
        "        return f\"Error: {str(e)}\"\n",
        "\n",
        "# State graph creation\n",
        "builder = StateGraph(MessagesState)\n",
        "\n",
        "# Define nodes (tools and their feedback)\n",
        "builder.add_node(\"calculator\", lambda state: {\"messages\": [calculate_expression(state['messages'][0][\"content\"])]})\n",
        "builder.add_node(\"spell_checker\", lambda state: {\"messages\": [check_spelling(state['messages'][0][\"content\"])]})\n",
        "builder.add_node(\"wikipedia\", lambda state: {\"messages\": [search_wikipedia(state['messages'][0][\"content\"])]})\n",
        "\n",
        "# Define edges (tool transitions, including feedback processing)\n",
        "builder.add_edge(START, \"calculator\")\n",
        "builder.add_edge(START, \"spell_checker\")\n",
        "builder.add_edge(START, \"wikipedia\")\n",
        "\n",
        "builder.add_edge(\"calculator\", \"spell_checker\")\n",
        "builder.add_edge(\"spell_checker\", \"wikipedia\")\n",
        "builder.add_edge(\"wikipedia\", \"calculator\")\n",
        "\n",
        "# Graph for state transitions\n",
        "graph = builder.compile()\n",
        "\n",
        "# Visualizing the graph\n",
        "from IPython.display import Image, display\n",
        "display(Image(graph.get_graph(xray=True).draw_mermaid_png()))\n",
        "\n",
        "# Gradio Interface with updated feedback handling\n",
        "interface = gr.Interface(\n",
        "    fn=student_chatbot,\n",
        "    inputs=[\n",
        "        gr.Textbox(label=\"Your Question\", placeholder=\"Enter your question here...\"),\n",
        "        gr.Textbox(label=\"Provide Feedback (optional)\", placeholder=\"Enter feedback here...\")\n",
        "    ],\n",
        "    outputs=gr.Textbox(label=\"Response\"),\n",
        "    title=\"Student Helper Chatbot with Feedback\",\n",
        "    description=(\n",
        "        \"Ask educational questions related to:\\n\"\n",
        "        \"- Calculations (e.g., 2 + 2).\\n\"\n",
        "        \"- Spell Checking (e.g., 'spell accomodate').\\n\"\n",
        "        \"- Wikipedia Search (e.g., 'wiki Python programming').\\n\\n\"\n",
        "        \"You can also provide feedback for corrections in the Feedback box.\"\n",
        "    ),\n",
        "    live=True  # Enable live feedback to immediately process changes\n",
        ")\n",
        "\n",
        "# Launch the interface\n",
        "interface.launch()\n"
      ],
      "metadata": {
        "colab": {
          "base_uri": "https://localhost:8080/",
          "height": 998
        },
        "id": "kVU_quk2JfOl",
        "outputId": "148db584-dcd4-433d-a358-b55750a99a39"
      },
      "execution_count": 18,
      "outputs": [
        {
          "output_type": "display_data",
          "data": {
            "image/png": "[encoded data removed]",
            "text/plain": [
              "<IPython.core.display.Image object>"
            ]
          },
          "metadata": {}
        },
        {
          "output_type": "stream",
          "name": "stdout",
          "text": [
            "Running Gradio in a Colab notebook requires sharing enabled. Automatically setting `share=True` (you can turn this off by setting `share=False` in `launch()` explicitly).\n",
            "\n",
            "Colab notebook detected. To show errors in colab notebook, set debug=True in launch()\n",
            "* Running on public URL: https://f2ffc6e6610e8e06e1.gradio.live\n",
            "\n",
            "This share link expires in 72 hours. For free permanent hosting and GPU upgrades, run `gradio deploy` from the terminal in the working directory to deploy to Hugging Face Spaces (https://huggingface.co/spaces)\n"
          ]
        },
        {
          "output_type": "display_data",
          "data": {
            "text/plain": [
              "<IPython.core.display.HTML object>"
            ],
            "text/html": [
              "<div><iframe src=\"https://f2ffc6e6610e8e06e1.gradio.live\" width=\"100%\" height=\"500\" allow=\"autoplay; camera; microphone; clipboard-read; clipboard-write;\" frameborder=\"0\" allowfullscreen></iframe></div>"
            ]
          },
          "metadata": {}
        },
        {
          "output_type": "execute_result",
          "data": {
            "text/plain": []
          },
          "metadata": {},
          "execution_count": 18
        }
      ]
    }
  ]
}